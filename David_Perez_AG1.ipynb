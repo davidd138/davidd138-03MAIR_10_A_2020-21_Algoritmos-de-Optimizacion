{
  "nbformat": 4,
  "nbformat_minor": 0,
  "metadata": {
    "colab": {
      "name": "David_Perez-AG1.ipynb",
      "provenance": [],
      "collapsed_sections": [
        "I_tiEvViXSpx",
        "AFCQvRFuaSPh",
        "nepGq1_Qhx3k",
        "_FnD6_1k7FU8"
      ],
      "toc_visible": true,
      "authorship_tag": "ABX9TyPkeagy3zZ0pDAV4yaSJxaJ",
      "include_colab_link": true
    },
    "kernelspec": {
      "name": "python3",
      "display_name": "Python 3"
    }
  },
  "cells": [
    {
      "cell_type": "markdown",
      "metadata": {
        "id": "view-in-github",
        "colab_type": "text"
      },
      "source": [
        "<a href=\"https://colab.research.google.com/github/davidd138/davidd138-03MAIR_10_A_2020-21_Algoritmos-de-Optimizacion/blob/main/David_Perez_AG1.ipynb\" target=\"_parent\"><img src=\"https://colab.research.google.com/assets/colab-badge.svg\" alt=\"Open In Colab\"/></a>"
      ]
    },
    {
      "cell_type": "markdown",
      "metadata": {
        "id": "I_tiEvViXSpx"
      },
      "source": [
        "#Actividad Guiada 1 de Algoritmos de Optimización\n",
        "\n",
        "David Pérez Martínez\n",
        "\n",
        "https://colab.research.google.com/drive/1vCEmByJ_uc73-ozaJG9H4ltNbzGWo0ng?usp=sharing\n",
        "\n",
        "https://github.com/davidd138/davidd138-03MAIR_10_A_2020-21_Algoritmos-de-Optimizacion"
      ]
    },
    {
      "cell_type": "markdown",
      "metadata": {
        "id": "AFCQvRFuaSPh"
      },
      "source": [
        "##Torres de Hanoi con divide y vencerás\n",
        "\n"
      ]
    },
    {
      "cell_type": "code",
      "metadata": {
        "colab": {
          "base_uri": "https://localhost:8080/"
        },
        "id": "QLYMhocqacn5",
        "outputId": "795c9302-94cf-4630-98e5-1e5c93a2bf45"
      },
      "source": [
        "def torres(n,i,f):\n",
        "  if n==1:\n",
        "    print(\"lleva la ficha desde\", i, \"hasta\", f)\n",
        "  \n",
        "  else:\n",
        "    torres(n-1,i,6-i-f)\n",
        "    print(\"lleva la ficha desde\", i, \"hasta\", f)\n",
        "    torres(n-1,6-i-f,f)\n",
        "\n",
        "torres(4,1,3)"
      ],
      "execution_count": null,
      "outputs": [
        {
          "output_type": "stream",
          "text": [
            "lleva la ficha desde 1 hasta 2\n",
            "lleva la ficha desde 1 hasta 3\n",
            "lleva la ficha desde 2 hasta 3\n",
            "lleva la ficha desde 1 hasta 2\n",
            "lleva la ficha desde 3 hasta 1\n",
            "lleva la ficha desde 3 hasta 2\n",
            "lleva la ficha desde 1 hasta 2\n",
            "lleva la ficha desde 1 hasta 3\n",
            "lleva la ficha desde 2 hasta 3\n",
            "lleva la ficha desde 2 hasta 1\n",
            "lleva la ficha desde 3 hasta 1\n",
            "lleva la ficha desde 2 hasta 3\n",
            "lleva la ficha desde 1 hasta 2\n",
            "lleva la ficha desde 1 hasta 3\n",
            "lleva la ficha desde 2 hasta 3\n"
          ],
          "name": "stdout"
        }
      ]
    },
    {
      "cell_type": "markdown",
      "metadata": {
        "id": "nepGq1_Qhx3k"
      },
      "source": [
        "##Devolución de cambio por técnica voraz\n"
      ]
    },
    {
      "cell_type": "code",
      "metadata": {
        "colab": {
          "base_uri": "https://localhost:8080/"
        },
        "id": "CdbYTSiUa3Q5",
        "outputId": "5efea8a3-2e81-4987-eeb4-ed1886901594"
      },
      "source": [
        "def cambio(cantidad,monedas=[25,10,5,1]):\n",
        "\n",
        "  monedas.sort(reverse=True)\n",
        "  solucion=[0]*len(monedas)\n",
        "  acumulado=0\n",
        "\n",
        "  for i,m in enumerate(monedas):\n",
        "    n=int((cantidad-acumulado)/m)\n",
        "    acumulado+=n*m\n",
        "    solucion[i]=n\n",
        "    if acumulado==cantidad:\n",
        "      #print(solucion)\n",
        "      return solucion\n",
        "    #print(acumulado)\n",
        "  print(\"sistema monetario insuficiente\")\n",
        "  #print(solucion)\n",
        "  return solucion\n",
        "\n",
        "cambio(37)"
      ],
      "execution_count": null,
      "outputs": [
        {
          "output_type": "execute_result",
          "data": {
            "text/plain": [
              "[1, 1, 0, 2]"
            ]
          },
          "metadata": {
            "tags": []
          },
          "execution_count": 29
        }
      ]
    },
    {
      "cell_type": "markdown",
      "metadata": {
        "id": "_FnD6_1k7FU8"
      },
      "source": [
        "## N-Reinas por técnica de vuelta atrás"
      ]
    },
    {
      "cell_type": "code",
      "metadata": {
        "id": "KEDoBFLQi3nd",
        "colab": {
          "base_uri": "https://localhost:8080/"
        },
        "outputId": "2f6cd107-3271-496f-ded5-88fc1c91b9b3"
      },
      "source": [
        "def reinas(N, solucion=[], etapa=0): \n",
        "\n",
        "  if len(solucion)==0: solucion=[0 for i in range(N)]\n",
        "  for i in range(1,N+1):\n",
        "    solucion[etapa]=i   \n",
        "    if es_prometedora(solucion,etapa):\n",
        "      if etapa==N-1:\n",
        "        print(\"\\n\",\"\\n\",solucion)\n",
        "        escribe(solucion)\n",
        "      else:\n",
        "        reinas(N,solucion,etapa+1)\n",
        "    else:\n",
        "      None\n",
        "    solucion[etapa]=0\n",
        "\n",
        "def es_prometedora(solucion,etapa):\n",
        "\n",
        "  for i in range(etapa+1):\n",
        "    for j in range(i+1,etapa+1):\n",
        "      if solucion[i]==solucion[j]+j-i or solucion[i]==solucion[j]-j+i:\n",
        "        return False\n",
        "    if solucion.count(solucion[i])>1:\n",
        "        return False\n",
        "  return True\n",
        "\n",
        "def escribe(S):\n",
        "\n",
        "  n=len(S)\n",
        "  for x in range(n):\n",
        "    print(\"\")\n",
        "    for i in range(n):\n",
        "      if S[i]==x+1:\n",
        "        print(\" X \",end=\"\")\n",
        "      else:\n",
        "        print(\" - \", end=\"\")\n",
        "\n",
        "reinas(4)"
      ],
      "execution_count": 3,
      "outputs": [
        {
          "output_type": "stream",
          "text": [
            "\n",
            " \n",
            " [2, 4, 1, 3]\n",
            "\n",
            " -  -  X  - \n",
            " X  -  -  - \n",
            " -  -  -  X \n",
            " -  X  -  - \n",
            " \n",
            " [3, 1, 4, 2]\n",
            "\n",
            " -  X  -  - \n",
            " -  -  -  X \n",
            " X  -  -  - \n",
            " -  -  X  - "
          ],
          "name": "stdout"
        }
      ]
    },
    {
      "cell_type": "markdown",
      "metadata": {
        "id": "v4foEc0aisyk"
      },
      "source": [
        "#Práctica individual"
      ]
    },
    {
      "cell_type": "markdown",
      "metadata": {
        "id": "5ILzUCEHi1Aq"
      },
      "source": [
        "## 1D"
      ]
    },
    {
      "cell_type": "code",
      "metadata": {
        "colab": {
          "base_uri": "https://localhost:8080/"
        },
        "id": "oNzOXOQjimnX",
        "outputId": "2500a83e-9339-4dde-f3df-528a5a76be21"
      },
      "source": [
        "def cercanos(lista):\n",
        "  menor=abs(lista[0]-lista[1])\n",
        "  for n,i in enumerate(lista):\n",
        "    for j in lista[n+1:]:\n",
        "      d=abs(i-j)\n",
        "      if d<=menor: \n",
        "        menor=d\n",
        "        p1=i\n",
        "        p2=j\n",
        "  return p1,p2\n",
        "\n",
        "cercanos([1,0.9,5.2,3,99,7,15,9])"
      ],
      "execution_count": 118,
      "outputs": [
        {
          "output_type": "execute_result",
          "data": {
            "text/plain": [
              "(1, 0.9)"
            ]
          },
          "metadata": {
            "tags": []
          },
          "execution_count": 118
        }
      ]
    },
    {
      "cell_type": "markdown",
      "metadata": {
        "id": "O0DcGRG_n8ct"
      },
      "source": [
        "El número de operaciones es del orden (para una lista de n términos): n\\*(n/cte)\\*cte, es decir, de orden n^2, cuadrática. \n",
        "\n",
        "Vamos a tratar de mejorar la complejidad aplicando divide y venceras."
      ]
    },
    {
      "cell_type": "markdown",
      "metadata": {
        "id": "LmoEG1QSpWK7"
      },
      "source": [
        "##Divide y vencerás"
      ]
    },
    {
      "cell_type": "code",
      "metadata": {
        "colab": {
          "base_uri": "https://localhost:8080/"
        },
        "id": "7LjG1P-kpVWk",
        "outputId": "d754cec5-4ef3-4b7e-f069-55c364b310a8"
      },
      "source": [
        "def cercanos(lista):\n",
        "\n",
        "  if len(lista)==2:\n",
        "    p1, p2 = lista[0], lista[1]\n",
        "    print(p1,p2)\n",
        "\n",
        "  else:\n",
        "    if abs(lista[0]-lista[1])<abs(lista[len(lista)-1]-lista[len(lista)-2]):\n",
        "      lista=lista[:len(lista)-1]\n",
        "      cercanos(lista)\n",
        "    else:\n",
        "      lista=lista[1:]\n",
        "      cercanos(lista)\n",
        "\n",
        "def cercanos_ordena(lista):\n",
        "  lista.sort()\n",
        "  cercanos(lista)\n",
        "\n",
        "cercanos_ordena([4,3,5,6,9,5.4])"
      ],
      "execution_count": 119,
      "outputs": [
        {
          "output_type": "stream",
          "text": [
            "5 5.4\n"
          ],
          "name": "stdout"
        }
      ]
    },
    {
      "cell_type": "markdown",
      "metadata": {
        "id": "rsQ3GZC423a_"
      },
      "source": [
        "En este caso el número de operaciones es: cte + (n-2)\\*cte + n\\*log(n), esto es casi lineal, mejora el orden de complejidad del apartado anterior. \n",
        "\n",
        "No creo que se pueda mejorar la complejidad del algoritmo más que lineal."
      ]
    },
    {
      "cell_type": "markdown",
      "metadata": {
        "id": "Gaq9blYI8RGQ"
      },
      "source": [
        "##Dos dimensiones"
      ]
    },
    {
      "cell_type": "code",
      "metadata": {
        "colab": {
          "base_uri": "https://localhost:8080/"
        },
        "id": "eIuGgvTN8TVe",
        "outputId": "a2c90449-b811-4478-c254-d80a787438f0"
      },
      "source": [
        "import math\n",
        "\n",
        "def distancia(p1,p2):\n",
        "  return math.sqrt((p1[0]-p2[0])**2+(p1[1]-p2[1])**2)\n",
        "\n",
        "def cercanos(lista):\n",
        "  menor=distancia(lista[0],lista[1])\n",
        "  for n,i in enumerate(lista):\n",
        "    for j in lista[n+1:]:\n",
        "      d=distancia(i,j)\n",
        "      if d<=menor: \n",
        "        menor=d\n",
        "        p1=i\n",
        "        p2=j\n",
        "  return p1,p2\n",
        "\n",
        "cercanos([[1,0.9],[5.2,3],[99,7],[15,9]])"
      ],
      "execution_count": 131,
      "outputs": [
        {
          "output_type": "execute_result",
          "data": {
            "text/plain": [
              "([1, 0.9], [5.2, 3])"
            ]
          },
          "metadata": {
            "tags": []
          },
          "execution_count": 131
        }
      ]
    },
    {
      "cell_type": "markdown",
      "metadata": {
        "id": "PQ9Dl9rD95N_"
      },
      "source": [
        "##Tres dimensiones"
      ]
    },
    {
      "cell_type": "code",
      "metadata": {
        "colab": {
          "base_uri": "https://localhost:8080/"
        },
        "id": "Xl0UMcK88jmj",
        "outputId": "2d552722-2547-450f-c193-ed619975906e"
      },
      "source": [
        "import math\n",
        "\n",
        "def distancia(p1,p2):\n",
        "  return math.sqrt((p1[0]-p2[0])**2+(p1[1]-p2[1])**2+(p1[2]-p2[2])**2)\n",
        "\n",
        "def cercanos(lista):\n",
        "  menor=distancia(lista[0],lista[1])\n",
        "  for n,i in enumerate(lista):\n",
        "    for j in lista[n+1:]:\n",
        "      d=distancia(i,j)\n",
        "      if d<=menor: \n",
        "        menor=d\n",
        "        p1=i\n",
        "        p2=j\n",
        "  return p1,p2\n",
        "\n",
        "cercanos([[1,0.9,3],[5.2,3,4],[99,7,5],[15,9,6]])"
      ],
      "execution_count": 134,
      "outputs": [
        {
          "output_type": "execute_result",
          "data": {
            "text/plain": [
              "([1, 0.9, 3], [5.2, 3, 4])"
            ]
          },
          "metadata": {
            "tags": []
          },
          "execution_count": 134
        }
      ]
    }
  ]
}