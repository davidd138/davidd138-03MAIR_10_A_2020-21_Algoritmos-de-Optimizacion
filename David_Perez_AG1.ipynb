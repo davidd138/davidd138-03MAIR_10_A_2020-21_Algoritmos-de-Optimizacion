{
  "nbformat": 4,
  "nbformat_minor": 0,
  "metadata": {
    "colab": {
      "name": "David_Perez-AG1.ipynb",
      "provenance": [],
      "collapsed_sections": [],
      "toc_visible": true,
      "authorship_tag": "ABX9TyMIJejyjN14qxte81+EJ70q",
      "include_colab_link": true
    },
    "kernelspec": {
      "name": "python3",
      "display_name": "Python 3"
    }
  },
  "cells": [
    {
      "cell_type": "markdown",
      "metadata": {
        "id": "view-in-github",
        "colab_type": "text"
      },
      "source": [
        "<a href=\"https://colab.research.google.com/github/davidd138/davidd138-03MAIR_10_A_2020-21_Algoritmos-de-Optimizacion/blob/main/David_Perez_AG1.ipynb\" target=\"_parent\"><img src=\"https://colab.research.google.com/assets/colab-badge.svg\" alt=\"Open In Colab\"/></a>"
      ]
    },
    {
      "cell_type": "markdown",
      "metadata": {
        "id": "I_tiEvViXSpx"
      },
      "source": [
        "#Actividad Guiada 1 de Algoritmos de Optimización\n",
        "\n",
        "David Pérez Martínez\n",
        "\n",
        "https://colab.research.google.com/drive/1vCEmByJ_uc73-ozaJG9H4ltNbzGWo0ng?usp=sharing\n",
        "\n",
        "https://github.com/davidd138/davidd138-03MAIR_10_A_2020-21_Algoritmos-de-Optimizacion"
      ]
    },
    {
      "cell_type": "markdown",
      "metadata": {
        "id": "AFCQvRFuaSPh"
      },
      "source": [
        "##Torres de Hanoi con divide y vencerás\n",
        "\n"
      ]
    },
    {
      "cell_type": "code",
      "metadata": {
        "colab": {
          "base_uri": "https://localhost:8080/"
        },
        "id": "QLYMhocqacn5",
        "outputId": "795c9302-94cf-4630-98e5-1e5c93a2bf45"
      },
      "source": [
        "def torres(n,i,f):\n",
        "  if n==1:\n",
        "    print(\"lleva la ficha desde\", i, \"hasta\", f)\n",
        "  \n",
        "  else:\n",
        "    torres(n-1,i,6-i-f)\n",
        "    print(\"lleva la ficha desde\", i, \"hasta\", f)\n",
        "    torres(n-1,6-i-f,f)\n",
        "\n",
        "torres(4,1,3)\n",
        "\n"
      ],
      "execution_count": null,
      "outputs": [
        {
          "output_type": "stream",
          "text": [
            "lleva la ficha desde 1 hasta 2\n",
            "lleva la ficha desde 1 hasta 3\n",
            "lleva la ficha desde 2 hasta 3\n",
            "lleva la ficha desde 1 hasta 2\n",
            "lleva la ficha desde 3 hasta 1\n",
            "lleva la ficha desde 3 hasta 2\n",
            "lleva la ficha desde 1 hasta 2\n",
            "lleva la ficha desde 1 hasta 3\n",
            "lleva la ficha desde 2 hasta 3\n",
            "lleva la ficha desde 2 hasta 1\n",
            "lleva la ficha desde 3 hasta 1\n",
            "lleva la ficha desde 2 hasta 3\n",
            "lleva la ficha desde 1 hasta 2\n",
            "lleva la ficha desde 1 hasta 3\n",
            "lleva la ficha desde 2 hasta 3\n"
          ],
          "name": "stdout"
        }
      ]
    },
    {
      "cell_type": "markdown",
      "metadata": {
        "id": "nepGq1_Qhx3k"
      },
      "source": [
        "##Devolución de cambio por técnica voraz\n"
      ]
    },
    {
      "cell_type": "code",
      "metadata": {
        "colab": {
          "base_uri": "https://localhost:8080/"
        },
        "id": "CdbYTSiUa3Q5",
        "outputId": "5efea8a3-2e81-4987-eeb4-ed1886901594"
      },
      "source": [
        "def cambio(cantidad,monedas=[25,10,5,1]):\n",
        "\n",
        "  monedas.sort(reverse=True)\n",
        "  solucion=[0]*len(monedas)\n",
        "  acumulado=0\n",
        "\n",
        "  for i,m in enumerate(monedas):\n",
        "    n=int((cantidad-acumulado)/m)\n",
        "    acumulado+=n*m\n",
        "    solucion[i]=n\n",
        "    if acumulado==cantidad:\n",
        "      #print(solucion)\n",
        "      return solucion\n",
        "    #print(acumulado)\n",
        "  print(\"sistema monetario insuficiente\")\n",
        "  #print(solucion)\n",
        "  return solucion\n",
        "\n",
        "cambio(37)"
      ],
      "execution_count": null,
      "outputs": [
        {
          "output_type": "execute_result",
          "data": {
            "text/plain": [
              "[1, 1, 0, 2]"
            ]
          },
          "metadata": {
            "tags": []
          },
          "execution_count": 29
        }
      ]
    },
    {
      "cell_type": "markdown",
      "metadata": {
        "id": "_FnD6_1k7FU8"
      },
      "source": [
        "## N-Reinas por técnica de vuelta atrás"
      ]
    },
    {
      "cell_type": "code",
      "metadata": {
        "id": "KEDoBFLQi3nd",
        "colab": {
          "base_uri": "https://localhost:8080/"
        },
        "outputId": "92fa051b-74a9-4e02-a2c4-bf7e1de6cefc"
      },
      "source": [
        "def reinas(N, solucion=[], etapa=0):\n",
        "  \n",
        "  if len(solucion)==0: solucion=[0 for i in range(N)]\n",
        "\n",
        "  for i in range(1,N+1):\n",
        "    solucion[etapa]=i\n",
        "    \n",
        "    if es_prometedora(solucion,etapa):\n",
        "      if etapa==N-1:\n",
        "        print(\"\\n\",\"\\n\",solucion)\n",
        "        escribe(solucion)\n",
        "      else:\n",
        "        reinas(N,solucion,etapa+1)\n",
        "    else:\n",
        "      None\n",
        "\n",
        "    solucion[etapa]=0\n",
        "\n",
        "def es_prometedora(solucion,etapa):\n",
        "\n",
        "  for i in range(etapa+1):\n",
        "    for j in range(i+1,etapa+1):\n",
        "      if solucion[i]==solucion[j]+j-i or solucion[i]==solucion[j]-j+i:\n",
        "        return False\n",
        "    if solucion.count(solucion[i])>1:\n",
        "        return False\n",
        "  return True\n",
        "\n",
        "def escribe(S):\n",
        "  n=len(S)\n",
        "  for x in range(n):\n",
        "    print(\"\")\n",
        "    for i in range(n):\n",
        "      if S[i]==x+1:\n",
        "        print(\" X \",end=\"\")\n",
        "      else:\n",
        "        print(\" - \", end=\"\")\n",
        "\n",
        "reinas(5)\n",
        "\n",
        "\n",
        "\n",
        "\n",
        "\n"
      ],
      "execution_count": null,
      "outputs": [
        {
          "output_type": "stream",
          "text": [
            "\n",
            " \n",
            " [1, 3, 5, 2, 4]\n",
            "\n",
            " X  -  -  -  - \n",
            " -  -  -  X  - \n",
            " -  X  -  -  - \n",
            " -  -  -  -  X \n",
            " -  -  X  -  - \n",
            " \n",
            " [1, 4, 2, 5, 3]\n",
            "\n",
            " X  -  -  -  - \n",
            " -  -  X  -  - \n",
            " -  -  -  -  X \n",
            " -  X  -  -  - \n",
            " -  -  -  X  - \n",
            " \n",
            " [2, 4, 1, 3, 5]\n",
            "\n",
            " -  -  X  -  - \n",
            " X  -  -  -  - \n",
            " -  -  -  X  - \n",
            " -  X  -  -  - \n",
            " -  -  -  -  X \n",
            " \n",
            " [2, 5, 3, 1, 4]\n",
            "\n",
            " -  -  -  X  - \n",
            " X  -  -  -  - \n",
            " -  -  X  -  - \n",
            " -  -  -  -  X \n",
            " -  X  -  -  - \n",
            " \n",
            " [3, 1, 4, 2, 5]\n",
            "\n",
            " -  X  -  -  - \n",
            " -  -  -  X  - \n",
            " X  -  -  -  - \n",
            " -  -  X  -  - \n",
            " -  -  -  -  X \n",
            " \n",
            " [3, 5, 2, 4, 1]\n",
            "\n",
            " -  -  -  -  X \n",
            " -  -  X  -  - \n",
            " X  -  -  -  - \n",
            " -  -  -  X  - \n",
            " -  X  -  -  - \n",
            " \n",
            " [4, 1, 3, 5, 2]\n",
            "\n",
            " -  X  -  -  - \n",
            " -  -  -  -  X \n",
            " -  -  X  -  - \n",
            " X  -  -  -  - \n",
            " -  -  -  X  - \n",
            " \n",
            " [4, 2, 5, 3, 1]\n",
            "\n",
            " -  -  -  -  X \n",
            " -  X  -  -  - \n",
            " -  -  -  X  - \n",
            " X  -  -  -  - \n",
            " -  -  X  -  - \n",
            " \n",
            " [5, 2, 4, 1, 3]\n",
            "\n",
            " -  -  -  X  - \n",
            " -  X  -  -  - \n",
            " -  -  -  -  X \n",
            " -  -  X  -  - \n",
            " X  -  -  -  - \n",
            " \n",
            " [5, 3, 1, 4, 2]\n",
            "\n",
            " -  -  X  -  - \n",
            " -  -  -  -  X \n",
            " -  X  -  -  - \n",
            " -  -  -  X  - \n",
            " X  -  -  -  - "
          ],
          "name": "stdout"
        }
      ]
    }
  ]
}