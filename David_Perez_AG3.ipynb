{
  "nbformat": 4,
  "nbformat_minor": 0,
  "metadata": {
    "colab": {
      "name": "David_Perez-AG3.ipynb",
      "provenance": [],
      "collapsed_sections": [],
      "toc_visible": true,
      "include_colab_link": true
    },
    "kernelspec": {
      "name": "python3",
      "display_name": "Python 3"
    }
  },
  "cells": [
    {
      "cell_type": "markdown",
      "metadata": {
        "id": "view-in-github",
        "colab_type": "text"
      },
      "source": [
        "<a href=\"https://colab.research.google.com/github/davidd138/davidd138-03MAIR_10_A_2020-21_Algoritmos-de-Optimizacion/blob/main/David_Perez_AG3.ipynb\" target=\"_parent\"><img src=\"https://colab.research.google.com/assets/colab-badge.svg\" alt=\"Open In Colab\"/></a>"
      ]
    },
    {
      "cell_type": "markdown",
      "metadata": {
        "id": "Ofrcocl8c9RM"
      },
      "source": [
        "#Actividad Guiada 3 de Algoritmos de Optimización\n",
        "Nombre: David Pérez<br>\n",
        "https://github.com/davidd138/davidd138-03MAIR_10_A_2020-21_Algoritmos-de-Optimizacion\n",
        "https://colab.research.google.com/drive/1eDzo3hfmOE2YHCQgkloGg_0OP_Ks1aGQ?usp=sharing\n"
      ]
    },
    {
      "cell_type": "code",
      "metadata": {
        "id": "qP-Y3Gkfc4vn",
        "colab": {
          "base_uri": "https://localhost:8080/"
        },
        "outputId": "31477ba1-62f2-4e89-8ede-b8c0657f686d"
      },
      "source": [
        "!pip install requests    #Hacer llamadas http a paginas de la red\n",
        "!pip install tsplib95    #Modulo para las instancias del problema del TSP"
      ],
      "execution_count": null,
      "outputs": [
        {
          "output_type": "stream",
          "text": [
            "Requirement already satisfied: requests in /usr/local/lib/python3.6/dist-packages (2.23.0)\n",
            "Requirement already satisfied: urllib3!=1.25.0,!=1.25.1,<1.26,>=1.21.1 in /usr/local/lib/python3.6/dist-packages (from requests) (1.24.3)\n",
            "Requirement already satisfied: certifi>=2017.4.17 in /usr/local/lib/python3.6/dist-packages (from requests) (2020.12.5)\n",
            "Requirement already satisfied: idna<3,>=2.5 in /usr/local/lib/python3.6/dist-packages (from requests) (2.10)\n",
            "Requirement already satisfied: chardet<4,>=3.0.2 in /usr/local/lib/python3.6/dist-packages (from requests) (3.0.4)\n",
            "Collecting tsplib95\n",
            "  Downloading https://files.pythonhosted.org/packages/a0/2b/b1932d3674758ec5f49afa72d4519334a5ac2aac4d96cfd416eb872a1959/tsplib95-0.7.1-py2.py3-none-any.whl\n",
            "Requirement already satisfied: tabulate~=0.8.7 in /usr/local/lib/python3.6/dist-packages (from tsplib95) (0.8.7)\n",
            "Collecting Deprecated~=1.2.9\n",
            "  Downloading https://files.pythonhosted.org/packages/d4/56/7d4774533d2c119e1873993d34d313c9c9efc88c5e4ab7e33bdf915ad98c/Deprecated-1.2.11-py2.py3-none-any.whl\n",
            "Requirement already satisfied: networkx~=2.1 in /usr/local/lib/python3.6/dist-packages (from tsplib95) (2.5)\n",
            "Requirement already satisfied: Click>=6.0 in /usr/local/lib/python3.6/dist-packages (from tsplib95) (7.1.2)\n",
            "Requirement already satisfied: wrapt<2,>=1.10 in /usr/local/lib/python3.6/dist-packages (from Deprecated~=1.2.9->tsplib95) (1.12.1)\n",
            "Requirement already satisfied: decorator>=4.3.0 in /usr/local/lib/python3.6/dist-packages (from networkx~=2.1->tsplib95) (4.4.2)\n",
            "Installing collected packages: Deprecated, tsplib95\n",
            "Successfully installed Deprecated-1.2.11 tsplib95-0.7.1\n"
          ],
          "name": "stdout"
        }
      ]
    },
    {
      "cell_type": "code",
      "metadata": {
        "id": "-SWA0WtIfFOS"
      },
      "source": [
        "import tsplib95       #Modulo para las instancias del problema del TSP\n",
        "import random         #Modulo para generar números aleatorios\n",
        "from math import e    #constante e\n",
        "import copy           #Para copia profunda de estructuras de datos(en python la asignación es por referencia)\n"
      ],
      "execution_count": null,
      "outputs": []
    },
    {
      "cell_type": "code",
      "metadata": {
        "id": "mnA47nhtdKOc",
        "colab": {
          "base_uri": "https://localhost:8080/"
        },
        "outputId": "8b20278e-544c-4cc1-cbf6-85acd4e00890"
      },
      "source": [
        "import urllib.request #Hacer llamadas http a paginas de la red\n",
        "\n",
        "#http://elib.zib.de/pub/mp-testdata/tsp/tsplib/\n",
        "#Documentacion : \n",
        "  # http://comopt.ifi.uni-heidelberg.de/software/TSPLIB95/tsp95.pdf\n",
        "  # https://tsplib95.readthedocs.io/en/stable/pages/usage.html\n",
        "  # https://tsplib95.readthedocs.io/en/v0.6.1/modules.html\n",
        "  # https://pypi.org/project/tsplib95/\n",
        "\n",
        "#Descargamos el fichero de datos(Matriz de distancias)\n",
        "file = \"swiss42.tsp\" ; \n",
        "urllib.request.urlretrieve(\"http://elib.zib.de/pub/mp-testdata/tsp/tsplib/tsp/swiss42.tsp\", file) \n",
        "\n",
        "#Coordendas 51-city problem (Christofides/Eilon)\n",
        "#file = \"eil51.tsp\" ; urllib.request.urlretrieve(\"http://elib.zib.de/pub/mp-testdata/tsp/tsplib/tsp/eil51.tsp\", file)\n",
        "\n",
        "#Coordenadas - 48 capitals of the US (Padberg/Rinaldi)\n",
        "#file = \"att48.tsp\" ; urllib.request.urlretrieve(\"http://elib.zib.de/pub/mp-testdata/tsp/tsplib/tsp/att48.tsp\", file)\n",
        "\n",
        "\n"
      ],
      "execution_count": null,
      "outputs": [
        {
          "output_type": "execute_result",
          "data": {
            "text/plain": [
              "('swiss42.tsp', <http.client.HTTPMessage at 0x7fc6e8014160>)"
            ]
          },
          "metadata": {
            "tags": []
          },
          "execution_count": 4
        }
      ]
    },
    {
      "cell_type": "code",
      "metadata": {
        "id": "ARkZkqP1m3tf"
      },
      "source": [
        "#Modulos extras, no esenciales\n",
        "import numpy as np\n",
        "import matplotlib.pyplot as plt\n",
        "import imageio                    #Para construir las imagenes con gif\n",
        "from google.colab import files    #Para descargar ficheros generados con google colab\n",
        "\n",
        "from tempfile import mkstemp      #Para genera carpetas y ficheros temporales\n",
        "#import tempfile\n"
      ],
      "execution_count": null,
      "outputs": []
    },
    {
      "cell_type": "code",
      "metadata": {
        "id": "RIXYkDWcfmwd"
      },
      "source": [
        "#Carga de datos y generación de objeto problem\n",
        "\n",
        "problem = tsplib95.load(file)\n",
        "\n",
        "#Nodos\n",
        "Nodos = list(problem.get_nodes())\n",
        "\n",
        "#Aristas\n",
        "Aristas = list(problem.get_edges())\n",
        "\n"
      ],
      "execution_count": null,
      "outputs": []
    },
    {
      "cell_type": "code",
      "metadata": {
        "id": "a7bTofSnn_Jt",
        "colab": {
          "base_uri": "https://localhost:8080/"
        },
        "outputId": "569699ef-b639-4d0c-fdc6-477c8dc411f7"
      },
      "source": [
        "#Probamos algunas funciones del objeto problem\n",
        "\n",
        "#Distancia entre nodos\n",
        "problem.get_weight(0, 1)\n",
        "\n",
        "#Todas las funciones\n",
        "#Documentación: https://tsplib95.readthedocs.io/en/v0.6.1/modules.html\n",
        "#dir(problem)"
      ],
      "execution_count": null,
      "outputs": [
        {
          "output_type": "execute_result",
          "data": {
            "text/plain": [
              "15"
            ]
          },
          "metadata": {
            "tags": []
          },
          "execution_count": 7
        }
      ]
    },
    {
      "cell_type": "code",
      "metadata": {
        "id": "tzrkaBS3gmmz"
      },
      "source": [
        "#Funcionas basicas      \n",
        "#Se genera una solucion aleatoria con comienzo en en el nodo 0\n",
        "def crear_solucion(Nodos): \n",
        "  solucion = [Nodos[0]]\n",
        "  for n in Nodos[1:]:\n",
        "    solucion = solucion + [random.choice(list(set(Nodos) - set({Nodos[0]}) - set(solucion)))]\n",
        "  return solucion \n",
        "\n",
        "#Devuelve la distancia entre dos nodos\n",
        "def distancia(a,b, problem):\n",
        "  return problem.get_weight(a,b)\n",
        "\n",
        "#Devuelve la distancia total de una trayectoria/solucion\n",
        "def distancia_total(solucion, problem):\n",
        "  distancia_total = 0\n",
        "  for i in range(len(solucion)-1):\n",
        "    distancia_total += distancia(solucion[i] ,solucion[i+1] ,  problem)\n",
        "  return distancia_total + distancia(solucion[len(solucion)-1] ,solucion[0], problem) "
      ],
      "execution_count": null,
      "outputs": []
    },
    {
      "cell_type": "code",
      "metadata": {
        "id": "nXhAb4oNk418",
        "colab": {
          "base_uri": "https://localhost:8080/"
        },
        "outputId": "e745ea22-908d-4003-ac2d-ad234ed48b58"
      },
      "source": [
        "def busqueda_aleatoria(problem, N):\n",
        "  \n",
        "  Nodos = list(problem.get_nodes())\n",
        "  \n",
        "  mejor_solucion = []\n",
        "  mejor_distancia = 10e100                          #Inicializamos con un valor alto\n",
        "  \n",
        "  for i in range(N):                                #Criterio de parada: repetir N veces pero podemos incluir otros\n",
        "    solucion = crear_solucion(Nodos)                #Genera una solucion aleatoria\n",
        "    distancia = distancia_total(solucion, problem)  #Calcula el valor objetivo(distancia total)\n",
        "    \n",
        "    if distancia < mejor_distancia:                 #Compara con la mejor obtenida hasta ahora\n",
        "      mejor_solucion = solucion\n",
        "      mejor_distancia = distancia\n",
        "      \n",
        "      \n",
        "  print(\"Mejor solución:\" , mejor_solucion) \n",
        "  print(\"Distancia     :\" , mejor_distancia) \n",
        "  return mejor_solucion  \n",
        "\n",
        "    \n",
        "    \n",
        "solucion = busqueda_aleatoria(problem, 50000)    "
      ],
      "execution_count": null,
      "outputs": [
        {
          "output_type": "stream",
          "text": [
            "Mejor solución: [0, 20, 31, 34, 16, 15, 17, 36, 14, 12, 18, 29, 32, 22, 2, 1, 39, 28, 19, 5, 6, 7, 25, 37, 11, 8, 9, 38, 27, 33, 30, 35, 3, 4, 40, 24, 23, 41, 21, 10, 26, 13]\n",
            "Distancia     : 3593\n"
          ],
          "name": "stdout"
        }
      ]
    },
    {
      "cell_type": "code",
      "metadata": {
        "id": "BT2gWJsFm5hM",
        "colab": {
          "base_uri": "https://localhost:8080/"
        },
        "outputId": "3b213105-8005-4732-90d1-499eacb71658"
      },
      "source": [
        "def genera_vecina(solucion):\n",
        "  #Generador de soluciones vecinas: 2-opt (intercambiar 2 nodos) Si hay N nodos se generan (N-1)x(N-2)/2 soluciones\n",
        "  #print(solucion)\n",
        "  mejor_solucion = []\n",
        "  mejor_distancia = 10e100\n",
        "  for i in range(1,len(solucion)-1):          #Recorremos todos los nodos en bucle doble para evaluar todos los intercambios 2-opt\n",
        "    for j in range(i+1, len(solucion)):\n",
        "      \n",
        "      #Se genera una nueva solución intercambiando los dos nodos i,j:\n",
        "      #  (usamos el operador + que para listas en python las concatena) : ej.: [1,2] + [3] = [1,2,3]\n",
        "      vecina = solucion[:i] + [solucion[j]] + solucion[i+1:j] + [solucion[i]] + solucion[j+1:]  \n",
        "\n",
        "      #Se evalua la nueva solución ...\n",
        "      distancia_vecina = distancia_total(vecina, problem)         \n",
        "\n",
        "      #... para guardarla si mejora las anteriores\n",
        "      if distancia_vecina <= mejor_distancia:\n",
        "        mejor_distancia = distancia_vecina\n",
        "        mejor_solucion = vecina\n",
        "  return mejor_solucion\n",
        "\n",
        "\n",
        "#solucion = [1, 47, 13, 41, 40, 19, 42, 44, 37, 5, 22, 28, 3, 2, 29, 21, 50, 34, 30, 9, 16, 11, 38, 49, 10, 39, 33, 45, 15, 24, 43, 26, 31, 36, 35, 20, 8, 7, 23, 48, 27, 12, 17, 4, 18, 25, 14, 6, 51, 46, 32]\n",
        "print(\"Distancia Solucion Incial:\" , distancia_total(solucion, problem))\n",
        " \n",
        "\n",
        "nueva_solucion = genera_vecina(solucion)\n",
        "print(\"Distancia Solucion Local:\", distancia_total(nueva_solucion, problem))"
      ],
      "execution_count": null,
      "outputs": [
        {
          "output_type": "stream",
          "text": [
            "Distancia Solucion Incial: 3593\n",
            "Distancia Solucion Local: 3324\n"
          ],
          "name": "stdout"
        }
      ]
    },
    {
      "cell_type": "code",
      "metadata": {
        "id": "UdBJg9Q9pYoE",
        "colab": {
          "base_uri": "https://localhost:8080/"
        },
        "outputId": "d349e477-9fd6-4f35-8b9f-1ec32e471059"
      },
      "source": [
        "#Busqueda Local:\n",
        "#  - Sobre el operador de vecindad 2-opt(funcion genera_vecina)\n",
        "#  - Sin criterio de parada, se para cuando no es posible mejorar.\n",
        "def busqueda_local(problem):\n",
        "  mejor_solucion = []\n",
        "  \n",
        "  #Generar una solucion inicial de referencia(aleatoria)\n",
        "  solucion_referencia = crear_solucion(Nodos)\n",
        "  mejor_distancia = distancia_total(solucion_referencia, problem)\n",
        "\n",
        "  iteracion=0   #Un contador para saber las iteraciones que hacemos\n",
        "  while(1):\n",
        "    iteracion +=1     #Incrementamos el contador\n",
        "    #print('#',iteracion)\n",
        "\n",
        "    #Obtenemos la mejor vecina ...\n",
        "    vecina = genera_vecina(solucion_referencia)\n",
        "    #... y la evaluamos para ver si mejoramos respecto a lo encontrado hasta el momento\n",
        "    distancia_vecina = distancia_total(vecina, problem)\n",
        " \n",
        "    #Si no mejoramos hay que terminas. Hemos llegado a un minimo local(según nuestro operador de vencindad)\n",
        "    if distancia_vecina < mejor_distancia:\n",
        "      mejor_solucion = copy.deepcopy(vecina)   #Con copia profunda. Las copias en python son por referencia \n",
        "      mejor_distancia = distancia_vecina\n",
        "    else:\n",
        "      print(\"En la iteracion \", iteracion, \", la mejor solución encontrada es:\" , mejor_solucion) \n",
        "      print(\"Distancia     :\" , mejor_distancia) \n",
        "      return mejor_solucion\n",
        "      \n",
        "    solucion_referencia = vecina\n",
        " \n",
        " \n",
        "sol = busqueda_local(problem )  "
      ],
      "execution_count": null,
      "outputs": [
        {
          "output_type": "stream",
          "text": [
            "En la iteracion  43 , la mejor solución encontrada es: [0, 6, 5, 26, 27, 2, 25, 11, 12, 18, 4, 3, 1, 7, 36, 35, 20, 33, 34, 38, 22, 9, 23, 41, 10, 8, 29, 30, 32, 31, 17, 37, 15, 16, 14, 19, 13, 40, 24, 21, 39, 28]\n",
            "Distancia     : 1772\n"
          ],
          "name": "stdout"
        }
      ]
    },
    {
      "cell_type": "code",
      "metadata": {
        "id": "EMwkY1r2pYLw",
        "colab": {
          "base_uri": "https://localhost:8080/"
        },
        "outputId": "31922d2b-753a-48c5-9ceb-48e5a5402a7a"
      },
      "source": [
        "#Generador de 1 solucion vecina 2-opt aleatoria (intercambiar 2 nodos)\n",
        "def genera_vecina_aleatorio(solucion):\n",
        "\n",
        "  #Se eligen dos nodos aleatoriamente\n",
        "  i,j = sorted(random.sample( range(1,len(solucion)) , 2))\n",
        "  \n",
        "  #Devuelve una nueva solución pero intercambiando los dos nodos elegidos al azar\n",
        "  return solucion[:i] + [solucion[j]] + solucion[i+1:j] + [solucion[i]] + solucion[j+1:]\n",
        "  \n",
        " \n",
        "genera_vecina_aleatorio(solucion) "
      ],
      "execution_count": null,
      "outputs": [
        {
          "output_type": "execute_result",
          "data": {
            "text/plain": [
              "[0,\n",
              " 20,\n",
              " 31,\n",
              " 34,\n",
              " 16,\n",
              " 15,\n",
              " 17,\n",
              " 36,\n",
              " 14,\n",
              " 12,\n",
              " 18,\n",
              " 29,\n",
              " 32,\n",
              " 22,\n",
              " 1,\n",
              " 2,\n",
              " 39,\n",
              " 28,\n",
              " 19,\n",
              " 5,\n",
              " 6,\n",
              " 7,\n",
              " 25,\n",
              " 37,\n",
              " 11,\n",
              " 8,\n",
              " 9,\n",
              " 38,\n",
              " 27,\n",
              " 33,\n",
              " 30,\n",
              " 35,\n",
              " 3,\n",
              " 4,\n",
              " 40,\n",
              " 24,\n",
              " 23,\n",
              " 41,\n",
              " 21,\n",
              " 10,\n",
              " 26,\n",
              " 13]"
            ]
          },
          "metadata": {
            "tags": []
          },
          "execution_count": 14
        }
      ]
    },
    {
      "cell_type": "code",
      "metadata": {
        "id": "GsN1UIDp0j6I"
      },
      "source": [
        "#Funcion de probabilidad para aceptar peores soluciones\n",
        "def probabilidad(T,d):\n",
        "  if random.random() <  math.exp( -1*d / T)  :\n",
        "    return True\n",
        "  else:\n",
        "    return False\n",
        "\n",
        "#Funcion de descenso de temperatura\n",
        "def bajar_temperatura(T):\n",
        "  return T*0.99\n",
        " \n",
        "def probabilidad(T,d):\n",
        "  if random.random() <  math.exp( -1*d / T)  :\n",
        "    return True\n",
        "  else:\n",
        "    return False"
      ],
      "execution_count": null,
      "outputs": []
    },
    {
      "cell_type": "code",
      "metadata": {
        "id": "l2T0EvuMsOYz"
      },
      "source": [
        ""
      ],
      "execution_count": null,
      "outputs": []
    },
    {
      "cell_type": "code",
      "metadata": {
        "id": "4waPiCcVtuhF",
        "colab": {
          "base_uri": "https://localhost:8080/"
        },
        "outputId": "6ff71aac-5b71-419f-f98e-e0fc54049804"
      },
      "source": [
        "import math\n",
        "def recocido_simulado(problem, TEMPERATURA ):\n",
        "  #problem = datos del problema\n",
        "  #T = Temperatura\n",
        "  \n",
        "  solucion_referencia = crear_solucion(Nodos)\n",
        "  distancia_referencia = distancia_total(solucion_referencia, problem)\n",
        "  \n",
        "  mejor_solucion = []\n",
        "  mejor_distancia = 10e100\n",
        "  \n",
        "  \n",
        "  N=0\n",
        "  while TEMPERATURA > .0001:\n",
        "    N+=1\n",
        "    #Genera una solución vecina\n",
        "    vecina =genera_vecina_aleatorio(solucion_referencia)\n",
        "    \n",
        "    #Calcula su valor(distancia)\n",
        "    distancia_vecina = distancia_total(vecina, problem)\n",
        "      \n",
        "    #Si es la mejor solución de todas se guarda(siempre!!!)\n",
        "    if distancia_vecina < mejor_distancia:\n",
        "        mejor_solucion = vecina\n",
        "        mejor_distancia = distancia_vecina\n",
        "    \n",
        "    #Si la nueva vecina es mejor se cambia  \n",
        "    #Si es peor se cambia según una probabilidad que depende de T y delta(distancia_referencia - distancia_vecina)\n",
        "    if distancia_vecina < distancia_referencia or probabilidad(TEMPERATURA, abs(distancia_referencia - distancia_vecina) ) :\n",
        "      solucion_referencia = copy.deepcopy(vecina)\n",
        "      distancia_referencia = distancia_vecina\n",
        "\n",
        "    #Bajamos la temperatura\n",
        "    TEMPERATURA = bajar_temperatura(TEMPERATURA)\n",
        " \n",
        "  print(\"La mejor solución encontrada es \" , end=\"\")\n",
        "  print(mejor_solucion)\n",
        "  print(\"con una distancia total de \" , end=\"\")\n",
        "  print(mejor_distancia)\n",
        "  return mejor_solucion\n",
        "\n",
        "sol  = recocido_simulado(problem, 10000000)"
      ],
      "execution_count": null,
      "outputs": [
        {
          "output_type": "stream",
          "text": [
            "La mejor solución encontrada es [0, 27, 3, 4, 1, 32, 20, 33, 34, 30, 28, 8, 21, 40, 24, 39, 29, 2, 38, 22, 9, 23, 41, 25, 12, 11, 10, 5, 18, 26, 13, 19, 16, 14, 15, 7, 6, 37, 17, 36, 35, 31]\n",
            "con una distancia total de 1792\n"
          ],
          "name": "stdout"
        }
      ]
    },
    {
      "cell_type": "markdown",
      "metadata": {
        "id": "weCwNDDaGlvL"
      },
      "source": [
        "##Parte individual\n",
        "\n",
        "Generar otros operadores de vecindad variables\n",
        "\n",
        "*EXPLICACIÓN AL FINAL DEL NOTEBOOK*"
      ]
    },
    {
      "cell_type": "code",
      "metadata": {
        "colab": {
          "base_uri": "https://localhost:8080/"
        },
        "id": "UV6J5hcGGqUf",
        "outputId": "8ae55056-f91b-43b0-8e85-cbbc62a1039e"
      },
      "source": [
        "def genera_vecina2(solucion):\n",
        "  #Generador de soluciones vecinas: 2-opt (intercambiar 2 nodos) Si hay N nodos se generan (N-1)x(N-2)/2 soluciones\n",
        "  #print(solucion)\n",
        "  mejor_solucion = []\n",
        "  mejor_distancia = 10e100\n",
        "  for i in range(1,len(solucion)-2):          #Recorremos todos los nodos en bucle doble para evaluar todos los intercambios 2-opt\n",
        "    for j in range(1, len(solucion)):\n",
        "      \n",
        "      #Se genera una nueva solución intercambiando los dos nodos i,j:\n",
        "      #  (usamos el operador + que para listas en python las concatena) : ej.: [1,2] + [3] = [1,2,3]\n",
        "      vecina = solucion[:i] + solucion[i+2:j] + solucion[i:i+2] + solucion[j:]\n",
        "\n",
        "      #Se evalua la nueva solución ...\n",
        "      distancia_vecina = distancia_total(vecina, problem)         \n",
        "\n",
        "      #... para guardarla si mejora las anteriores\n",
        "      if distancia_vecina <= mejor_distancia:\n",
        "        mejor_distancia = distancia_vecina\n",
        "        mejor_solucion = vecina\n",
        "  return mejor_solucion\n",
        "\n",
        "\n",
        "#solucion = [1, 47, 13, 41, 40, 19, 42, 44, 37, 5, 22, 28, 3, 2, 29, 21, 50, 34, 30, 9, 16, 11, 38, 49, 10, 39, 33, 45, 15, 24, 43, 26, 31, 36, 35, 20, 8, 7, 23, 48, 27, 12, 17, 4, 18, 25, 14, 6, 51, 46, 32]\n",
        "print(\"Distancia Solucion Incial:\" , distancia_total(solucion, problem))\n",
        " \n",
        "nueva_solucion = genera_vecina(solucion)\n",
        "nueva_solucion2 = genera_vecina2(solucion)\n",
        "print(\"Distancia Solucion Local:\", distancia_total(nueva_solucion, problem))\n",
        "print(\"Distancia Nueva Solucion Local:\", distancia_total(nueva_solucion2, problem))\n"
      ],
      "execution_count": null,
      "outputs": [
        {
          "output_type": "stream",
          "text": [
            "Distancia Solucion Incial: 3593\n",
            "Distancia Solucion Local: 3324\n",
            "Distancia Nueva Solucion Local: 3358\n"
          ],
          "name": "stdout"
        }
      ]
    },
    {
      "cell_type": "code",
      "metadata": {
        "colab": {
          "base_uri": "https://localhost:8080/"
        },
        "id": "KLb_RMhwPDNn",
        "outputId": "1508567c-3fee-4269-a7ad-f771b8f3f413"
      },
      "source": [
        "def genera_vecina3(solucion):\n",
        "  #Generador de soluciones vecinas: 2-opt (intercambiar 2 nodos) Si hay N nodos se generan (N-1)x(N-2)/2 soluciones\n",
        "  #print(solucion)\n",
        "  mejor_solucion = []\n",
        "  mejor_distancia = 10e100\n",
        "  for i in range(1,len(solucion)-3):          #Recorremos todos los nodos en bucle doble para evaluar todos los intercambios 2-opt\n",
        "    for j in range(1, len(solucion)):\n",
        "      \n",
        "      #Se genera una nueva solución intercambiando los dos nodos i,j:\n",
        "      #  (usamos el operador + que para listas en python las concatena) : ej.: [1,2] + [3] = [1,2,3]\n",
        "      vecina = solucion[:i] + solucion[i+3:j] + solucion[i:i+3] + solucion[j:]\n",
        "\n",
        "      #Se evalua la nueva solución ...\n",
        "      distancia_vecina = distancia_total(vecina, problem)         \n",
        "\n",
        "      #... para guardarla si mejora las anteriores\n",
        "      if distancia_vecina <= mejor_distancia:\n",
        "        mejor_distancia = distancia_vecina\n",
        "        mejor_solucion = vecina\n",
        "  return mejor_solucion\n",
        "\n",
        "\n",
        "#solucion = [1, 47, 13, 41, 40, 19, 42, 44, 37, 5, 22, 28, 3, 2, 29, 21, 50, 34, 30, 9, 16, 11, 38, 49, 10, 39, 33, 45, 15, 24, 43, 26, 31, 36, 35, 20, 8, 7, 23, 48, 27, 12, 17, 4, 18, 25, 14, 6, 51, 46, 32]\n",
        "print(\"Distancia Solucion Incial:\" , distancia_total(solucion, problem))\n",
        " \n",
        "nueva_solucion = genera_vecina(solucion)\n",
        "nueva_solucion2 = genera_vecina2(solucion)\n",
        "print(\"Distancia Solucion Local:\", distancia_total(nueva_solucion, problem))\n",
        "print(\"Distancia Nueva Solucion Local:\", distancia_total(nueva_solucion2, problem))\n"
      ],
      "execution_count": null,
      "outputs": [
        {
          "output_type": "stream",
          "text": [
            "Distancia Solucion Incial: 3593\n",
            "Distancia Solucion Local: 3324\n",
            "Distancia Nueva Solucion Local: 3358\n"
          ],
          "name": "stdout"
        }
      ]
    },
    {
      "cell_type": "code",
      "metadata": {
        "id": "ghtgnSj6JKmd"
      },
      "source": [
        "def busqueda_local_nueva(problem):\n",
        "  mejor_solucion = []\n",
        "  \n",
        "  #Generar una solucion inicial de referencia(aleatoria)\n",
        "  solucion_referencia = crear_solucion(Nodos)\n",
        "  mejor_distancia = distancia_total(solucion_referencia, problem)\n",
        "\n",
        "  iteracion=0   #Un contador para saber las iteraciones que hacemos\n",
        "  while(1):\n",
        "    iteracion +=1     #Incrementamos el contador\n",
        "    #print('#',iteracion)\n",
        "\n",
        "    #Obtenemos la mejor vecina ...\n",
        "    vecina = genera_vecina(solucion_referencia)\n",
        "    #... y la evaluamos para ver si mejoramos respecto a lo encontrado hasta el momento\n",
        "    distancia_vecina = distancia_total(vecina, problem)\n",
        " \n",
        "    #Si no mejoramos hay que terminas. Hemos llegado a un minimo local(según nuestro operador de vencindad)\n",
        "    if distancia_vecina < mejor_distancia:\n",
        "      mejor_solucion = copy.deepcopy(vecina)   #Con copia profunda. Las copias en python son por referencia \n",
        "      mejor_distancia = distancia_vecina\n",
        "    else:\n",
        "      vecina = genera_vecina2(solucion_referencia)\n",
        "      distancia_vecina = distancia_total(vecina, problem)\n",
        "      if distancia_vecina < mejor_distancia:\n",
        "        print(\"genera_vecina2 ha mejorado el resultado\")\n",
        "        mejor_solucion = copy.deepcopy(vecina)   #Con copia profunda. Las copias en python son por referencia \n",
        "        mejor_distancia = distancia_vecina\n",
        "      else:\n",
        "        vecina = genera_vecina3(solucion_referencia)\n",
        "        distancia_vecina = distancia_total(vecina, problem)\n",
        "        if distancia_vecina < mejor_distancia:\n",
        "          print(\"genera_vecina3 ha mejorado el resultado\")\n",
        "          mejor_solucion = copy.deepcopy(vecina)\n",
        "          mejor_distancia = distancia_vecina\n",
        "        else:\n",
        "          print(\"En la iteracion \", iteracion, \", la mejor solución encontrada es:\" , mejor_solucion) \n",
        "          print(\"Distancia     :\" , mejor_distancia) \n",
        "          return mejor_solucion\n",
        "        solucion_referencia = vecina"
      ],
      "execution_count": null,
      "outputs": []
    },
    {
      "cell_type": "code",
      "metadata": {
        "colab": {
          "base_uri": "https://localhost:8080/"
        },
        "id": "qbyiHBgjJPmY",
        "outputId": "452c4959-ec37-403b-b861-7319cd74e533"
      },
      "source": [
        "print(\"solucion antigua\")\n",
        "sol1 = busqueda_local(problem) \n",
        "print(\"solucion nueva\") \n",
        "sol2 = busqueda_local_nueva(problem)\n",
        "\n",
        "print(\"Distancia Solucion Local:\", sol1)\n",
        "print(\"Distancia Nueva Solucion Local:\", sol2)"
      ],
      "execution_count": null,
      "outputs": [
        {
          "output_type": "stream",
          "text": [
            "solucion antigua\n",
            "En la iteracion  2 , la mejor solución encontrada es: [0, 39, 3, 30, 17, 1, 6, 20, 18, 35, 31, 22, 21, 11, 23, 19, 12, 24, 41, 9, 8, 38, 37, 36, 26, 7, 14, 29, 25, 13, 16, 27, 10, 2, 33, 32, 28, 15, 4, 34, 40, 5]\n",
            "Distancia     : 4400\n",
            "solucion nueva\n",
            "genera_vecina3 ha mejorado el resultado\n",
            "En la iteracion  4 , la mejor solución encontrada es: [0, 37, 26, 36, 17, 13, 27, 33, 20, 31, 35, 10, 23, 25, 34, 15, 14, 30, 22, 38, 40, 11, 1, 19, 39, 24, 32, 2, 16, 12, 5, 4, 3, 21, 28, 6, 7, 41, 8, 29, 9, 18]\n",
            "Distancia     : 3817\n",
            "Distancia Solucion Local: [0, 39, 3, 30, 17, 1, 6, 20, 18, 35, 31, 22, 21, 11, 23, 19, 12, 24, 41, 9, 8, 38, 37, 36, 26, 7, 14, 29, 25, 13, 16, 27, 10, 2, 33, 32, 28, 15, 4, 34, 40, 5]\n",
            "Distancia Nueva Solucion Local: [0, 37, 26, 36, 17, 13, 27, 33, 20, 31, 35, 10, 23, 25, 34, 15, 14, 30, 22, 38, 40, 11, 1, 19, 39, 24, 32, 2, 16, 12, 5, 4, 3, 21, 28, 6, 7, 41, 8, 29, 9, 18]\n"
          ],
          "name": "stdout"
        }
      ]
    },
    {
      "cell_type": "markdown",
      "metadata": {
        "id": "1dIUY2KhQ6jC"
      },
      "source": [
        "Para mejorar la busqueda local, he creado dos nuevas funciones (genera_vecina2 y genera_vecina3), estas funciones lo que hacen es cambiar la posición de un grupo de dos o tres nodos seguidos a otra posición aleatoria (no los permuta, solo los mueve). \n",
        "\n",
        "En la busqueda_local_nueva, se ejecuta genera_vecina, y cuando ya no encuentra mejoras pasa a ejecutar genera_vecina2. Si genera_vecina2 no encuentra una mejor solución pasa a genera_vecina3, y si encuentra una solución mejor vuelve a genera_vecina. genera_vecina3 sigue el mismo procedimiento que genera_vecina2.\n",
        "\n",
        "En muchos casos genera_vecina2 y genera_vecina3 no encuentran soluciones mejores, pero hay otros en los que genera_vecina se atasca en un mínimo relativo y estas dos nuevas funciones ayudan a seguir encontrando una mejor solución.\n",
        "\n",
        "Este método podría seguir implementándose para grupos de nodos más grandes.\n",
        "\n",
        "En ningun momento este método va a perjudicar a la mejor solución encontrada por genera_vecinos.\n"
      ]
    }
  ]
}