{
  "nbformat": 4,
  "nbformat_minor": 0,
  "metadata": {
    "colab": {
      "name": "David_Perez-AG2.ipynb",
      "provenance": [],
      "collapsed_sections": [],
      "authorship_tag": "ABX9TyPVQegtgC579kDcxuQRa6H0",
      "include_colab_link": true
    },
    "kernelspec": {
      "name": "python3",
      "display_name": "Python 3"
    }
  },
  "cells": [
    {
      "cell_type": "markdown",
      "metadata": {
        "id": "view-in-github",
        "colab_type": "text"
      },
      "source": [
        "<a href=\"https://colab.research.google.com/github/davidd138/davidd138-03MAIR_10_A_2020-21_Algoritmos-de-Optimizacion/blob/main/David_Perez_AG2.ipynb\" target=\"_parent\"><img src=\"https://colab.research.google.com/assets/colab-badge.svg\" alt=\"Open In Colab\"/></a>"
      ]
    },
    {
      "cell_type": "markdown",
      "metadata": {
        "id": "czHTqhvqzyZw"
      },
      "source": [
        "#Actividad Guiada 2 de Algoritmos de Optimización\n",
        "\n",
        "David Pérez Martínez\n",
        "\n",
        "https://colab.research.google.com/drive/13a8H087I4fDT8KOQ5FlalPC4At3hwsSu?usp=sharing\n",
        "\n",
        "https://github.com/davidd138/davidd138-03MAIR_10_A_2020-21_Algoritmos-de-Optimizacion"
      ]
    },
    {
      "cell_type": "markdown",
      "metadata": {
        "id": "8simKKV1z55u"
      },
      "source": [
        "###Viaje por el río"
      ]
    },
    {
      "cell_type": "code",
      "metadata": {
        "id": "W45X9ULcz9QZ"
      },
      "source": [
        "import math \n",
        "\n",
        "TARIFAS = [\n",
        "[0,5,4,3,999,999,999],   #desde nodo 0\n",
        "[999,0,999,2,3,999,11],  #desde nodo 1\n",
        "[999,999, 0,1,999,4,10], #desde nodo 2\n",
        "[999,999,999, 0,5,6,9],\n",
        "[999,999, 999,999,0,999,4],\n",
        "[999,999, 999,999,999,0,3],\n",
        "[999,999,999,999,999,999,0]\n",
        "]"
      ],
      "execution_count": null,
      "outputs": []
    },
    {
      "cell_type": "markdown",
      "metadata": {
        "id": "qI6PrLys0F89"
      },
      "source": [
        "En primer lugar, he hecho un problema muy simple que partiendo del primer nodo elige siempre el nodo más cercano. El resultado no es el más óptimo pero no dista mucho. Si se aplica este método a otro problema con dimensionalidad mayor probablemente el resultado sea peor, pero el coste computacional es muy pequeño, en el peor de los casos el coste computacional es de cte*n, esto es lineal."
      ]
    },
    {
      "cell_type": "code",
      "metadata": {
        "colab": {
          "base_uri": "https://localhost:8080/"
        },
        "id": "eHE6lGpY0GhO",
        "outputId": "83a24f21-b6d4-4c37-f9f7-6539c33c6b73"
      },
      "source": [
        "def camino(tarifas, posicion=0, coste=0):\n",
        "  posicion_actual=tarifas[posicion]\n",
        "  corto=min(posicion_actual[posicion+1:])\n",
        "  coste+=corto\n",
        "  nueva_posicion=posicion_actual.index(corto)\n",
        "  if nueva_posicion==6:\n",
        "    print(coste)\n",
        "    return coste\n",
        "  else: \n",
        "    camino(tarifas, nueva_posicion, coste)\n",
        "\n",
        "camino(TARIFAS)"
      ],
      "execution_count": null,
      "outputs": [
        {
          "output_type": "stream",
          "text": [
            "12\n"
          ],
          "name": "stdout"
        }
      ]
    },
    {
      "cell_type": "markdown",
      "metadata": {
        "id": "ettmTiC50QiM"
      },
      "source": [
        "En el siguiente método he utilizado la recursividad, creo que se puede asemejar un poco a ramificación y poda. Se va probando con todas las ramificaciones y cuando superan el costo de la más eficiente encontrada se descartan."
      ]
    },
    {
      "cell_type": "code",
      "metadata": {
        "colab": {
          "base_uri": "https://localhost:8080/"
        },
        "id": "bGqO5hjM0Q7N",
        "outputId": "36573894-937c-4cfa-bdce-12f964afd16c"
      },
      "source": [
        "MIN2=999999\n",
        "def camino(tarifas, posicion=0, coste=0, recorrido=[0]):\n",
        "  global MIN2\n",
        "  posicion_actual=tarifas[posicion]\n",
        "  #print(posicion_actual)\n",
        "  coste1=[coste]*len(posicion_actual[posicion+1:])\n",
        "  #recorrido1=[recorrido[:]*len(posicion_actual[posicion+1:])]\n",
        "  recorrido1=[recorrido[:] for i in posicion_actual[posicion+1:]]\n",
        "  #print(recorrido1)\n",
        "  #print(coste1)\n",
        "  #print(posicion_actual[posicion+1:])\n",
        "  for m,i in enumerate(posicion_actual[posicion+1:]):\n",
        "    #print(posicion_actual[posicion+1:])\n",
        "    #print(m,i)\n",
        "    coste1[m]+=i\n",
        "    if coste1[m]>MIN2: continue\n",
        "    #print(coste1[m])\n",
        "    nueva_posicion=posicion+m+1\n",
        "    #print(nueva_posicion)\n",
        "    #print(recorrido1)\n",
        "    #print(recorrido1[m])\n",
        "    recorrido1[m].append(nueva_posicion)\n",
        "    #print(recorrido1)\n",
        "    #print(recorrido1[m])\n",
        "    if nueva_posicion==6: \n",
        "      #print(recorrido1[m])\n",
        "      #print(min2)\n",
        "      if coste1[m]<=MIN2:\n",
        "        MIN2=coste1[m]\n",
        "        print(recorrido1[m])\n",
        "        print(MIN2)\n",
        "    else: \n",
        "      #print(recorrido)\n",
        "      camino(tarifas, nueva_posicion, coste1[m], recorrido1[m])\n",
        "\n",
        "camino(TARIFAS)\n",
        "print(MIN2)"
      ],
      "execution_count": null,
      "outputs": [
        {
          "output_type": "stream",
          "text": [
            "[0, 1, 2, 3, 4, 5, 6]\n",
            "2012\n",
            "[0, 1, 2, 3, 4, 6]\n",
            "1014\n",
            "[0, 1, 2, 3, 5, 6]\n",
            "1014\n",
            "[0, 1, 2, 3, 6]\n",
            "1014\n",
            "[0, 1, 2, 5, 6]\n",
            "1011\n",
            "[0, 1, 3, 4, 6]\n",
            "16\n",
            "[0, 1, 3, 5, 6]\n",
            "16\n",
            "[0, 1, 3, 6]\n",
            "16\n",
            "[0, 1, 4, 6]\n",
            "12\n",
            "[0, 2, 5, 6]\n",
            "11\n",
            "11\n"
          ],
          "name": "stdout"
        }
      ]
    },
    {
      "cell_type": "markdown",
      "metadata": {
        "id": "67eyNmID0Xh4"
      },
      "source": [
        "Los resultados muestran que solo ha llegado a la ultima ramificación en 10 ocasiones. El camino más eficiente es : [0, 2, 5, 6] y tiene un coste de 11. Este método en el peor de los casos tendría un coste computacional igual que haciéndolo por fuerza bruta (complejidad exponencial) y en el mejor de los casos tendría un costo computacional de cte\\*n (complejidad lineal). Creo que la complejidad media del algoritmo se hacerca más a lo exponencial que a lo lineal. En cualquier caso el método de programación linéal visto en clase es mucho más eficiente, ya que solo realiza la mayoría de los cálculos una vez, los almacena y se ahorra repetirlos.\n",
        "\n",
        "A continuación el método visto en clase:"
      ]
    },
    {
      "cell_type": "code",
      "metadata": {
        "id": "MHCKQLBl0YQd"
      },
      "source": [
        "def Precios(TARIFAS):\n",
        "################################################################  \n",
        "  #Total de Nodos\n",
        "  N = len(TARIFAS[0])\n",
        "  \n",
        "  #Inicialización de la tabla de precios\n",
        "  PRECIOS = [ [9999]*N for i in [9999]*N]  #n x n \n",
        "  RUTA = [ [\"\"]*N for i in [\"\"]*N]\n",
        "  \n",
        "  for i in range(N-1):\n",
        "    for j in range(i+1, N):\n",
        "      MIN = TARIFAS[i][j]\n",
        "      RUTA[i][j] = i\n",
        "      \n",
        "      for k in range(i, j):\n",
        "        if PRECIOS[i][k] + TARIFAS[k][j] < MIN:\n",
        "            MIN = min(MIN, PRECIOS[i][k] + TARIFAS[k][j] )\n",
        "            RUTA[i][j] = k\n",
        "        PRECIOS[i][j] = MIN\n",
        "        \n",
        "  return PRECIOS,RUTA"
      ],
      "execution_count": null,
      "outputs": []
    },
    {
      "cell_type": "code",
      "metadata": {
        "colab": {
          "base_uri": "https://localhost:8080/"
        },
        "id": "zbfyc2_L0cX2",
        "outputId": "3b301563-5f54-482a-a62c-a07b5b39221d"
      },
      "source": [
        "PRECIOS,RUTA = Precios(TARIFAS)  \n",
        "#print(PRECIOS[0][6])\n",
        "\n",
        "print(\"PRECIOS\")\n",
        "for i in range(len(TARIFAS)):\n",
        "  print(PRECIOS[i])\n",
        "\n",
        "print(\"\\nRUTA\")  \n",
        "for i in range(len(TARIFAS)):\n",
        "  print(RUTA[i]) "
      ],
      "execution_count": null,
      "outputs": [
        {
          "output_type": "stream",
          "text": [
            "PRECIOS\n",
            "[9999, 5, 4, 3, 8, 8, 11]\n",
            "[9999, 9999, 999, 2, 3, 8, 7]\n",
            "[9999, 9999, 9999, 1, 6, 4, 7]\n",
            "[9999, 9999, 9999, 9999, 5, 6, 9]\n",
            "[9999, 9999, 9999, 9999, 9999, 999, 4]\n",
            "[9999, 9999, 9999, 9999, 9999, 9999, 3]\n",
            "[9999, 9999, 9999, 9999, 9999, 9999, 9999]\n",
            "\n",
            "RUTA\n",
            "['', 0, 0, 0, 1, 2, 5]\n",
            "['', '', 1, 1, 1, 3, 4]\n",
            "['', '', '', 2, 3, 2, 5]\n",
            "['', '', '', '', 3, 3, 3]\n",
            "['', '', '', '', '', 4, 4]\n",
            "['', '', '', '', '', '', 5]\n",
            "['', '', '', '', '', '', '']\n"
          ],
          "name": "stdout"
        }
      ]
    },
    {
      "cell_type": "code",
      "metadata": {
        "colab": {
          "base_uri": "https://localhost:8080/",
          "height": 69
        },
        "id": "1X2S29821vgO",
        "outputId": "f7322db1-88a7-4d30-f07f-04f4264c9b40"
      },
      "source": [
        "def calcular_ruta(RUTA, desde, hasta):\n",
        "  if desde == hasta:\n",
        "    #print(\"Ir a :\" + str(desde))\n",
        "    return desde \n",
        "  else:\n",
        "    return str(calcular_ruta(RUTA, desde, RUTA[desde][hasta])) +  ',' + str(RUTA[desde][hasta]) \n",
        "\n",
        "print(\"\\nLa ruta es:\")  \n",
        "calcular_ruta(RUTA, 0,6) "
      ],
      "execution_count": null,
      "outputs": [
        {
          "output_type": "stream",
          "text": [
            "\n",
            "La ruta es:\n"
          ],
          "name": "stdout"
        },
        {
          "output_type": "execute_result",
          "data": {
            "application/vnd.google.colaboratory.intrinsic+json": {
              "type": "string"
            },
            "text/plain": [
              "'0,0,2,5'"
            ]
          },
          "metadata": {
            "tags": []
          },
          "execution_count": 7
        }
      ]
    },
    {
      "cell_type": "markdown",
      "metadata": {
        "id": "Ew_c-Gk-12Gj"
      },
      "source": [
        "##Problema de Asignacion de tarea"
      ]
    },
    {
      "cell_type": "code",
      "metadata": {
        "id": "K2Avh11212gC"
      },
      "source": [
        "COSTES=[[11,12,18,40],\n",
        "        [14,15,13,22],\n",
        "        [11,17,19,23],\n",
        "        [17,14,20,28]]"
      ],
      "execution_count": null,
      "outputs": []
    },
    {
      "cell_type": "code",
      "metadata": {
        "colab": {
          "base_uri": "https://localhost:8080/"
        },
        "id": "8Zb5nDUV15M_",
        "outputId": "a82fac89-7146-44fe-b6a8-2bc484d1d926"
      },
      "source": [
        "def valor(S,COSTES):\n",
        "  VALOR = 0\n",
        "  for i in range(len(S)):\n",
        "    VALOR += COSTES[i][S[i]] \n",
        "  return VALOR\n",
        "  \n",
        "valor((1,2,3,0),COSTES)"
      ],
      "execution_count": null,
      "outputs": [
        {
          "output_type": "execute_result",
          "data": {
            "text/plain": [
              "65"
            ]
          },
          "metadata": {
            "tags": []
          },
          "execution_count": 9
        }
      ]
    },
    {
      "cell_type": "code",
      "metadata": {
        "colab": {
          "base_uri": "https://localhost:8080/"
        },
        "id": "eBlc6pvh16uo",
        "outputId": "70812c1d-94f5-400a-d6a4-eec3b9c8e08d"
      },
      "source": [
        "#Coste inferior para soluciones parciales\n",
        "#  (1,3,) Se asigna la tarea 1 al agente 0 y la tarea 3 al agente 1\n",
        "\n",
        "def CI(S,COSTES):\n",
        "  VALOR = 0\n",
        "  #Valores establecidos\n",
        "  for i in range(len(S)):\n",
        "    VALOR += COSTES[i][S[i]]\n",
        "\n",
        "  #Estimacion\n",
        "  for i in range( len(S), len(COSTES)   ):\n",
        "    VALOR += min( [ COSTES[j][i] for j in range(len(S), len(COSTES))  ])\n",
        "  return VALOR\n",
        "\n",
        "def CS(S,COSTES):\n",
        "  VALOR = 0\n",
        "  #Valores establecidos\n",
        "  for i in range(len(S)):\n",
        "    VALOR += COSTES[i][S[i]]\n",
        "\n",
        "  #Estimacion\n",
        "  for i in range( len(S), len(COSTES)   ):\n",
        "    VALOR += max( [ COSTES[j][i] for j in range(len(S), len(COSTES))  ])\n",
        "  return VALOR\n",
        "\n",
        "CS((0,1),COSTES)"
      ],
      "execution_count": null,
      "outputs": [
        {
          "output_type": "execute_result",
          "data": {
            "text/plain": [
              "74"
            ]
          },
          "metadata": {
            "tags": []
          },
          "execution_count": 10
        }
      ]
    },
    {
      "cell_type": "code",
      "metadata": {
        "id": "Oa7V6wD119MZ"
      },
      "source": [
        "#Genera tantos hijos como como posibilidades haya para la siguiente elemento de la tupla\n",
        "#(0,) -> (0,1), (0,2), (0,3)\n",
        "def crear_hijos(NODO, N):\n",
        "  HIJOS = []\n",
        "  for i in range(N ):\n",
        "    if i not in NODO:\n",
        "      HIJOS.append({'s':NODO +(i,)    })\n",
        "  return HIJOS"
      ],
      "execution_count": null,
      "outputs": []
    },
    {
      "cell_type": "code",
      "metadata": {
        "colab": {
          "base_uri": "https://localhost:8080/"
        },
        "id": "c1DTSbfw1_Kx",
        "outputId": "139ca255-4265-4030-9a77-fbb6b02a3a13"
      },
      "source": [
        "def ramificacion_y_poda(COSTES):\n",
        "#Construccion iterativa de soluciones(arbol). En cada etapa asignamos un agente(ramas).\n",
        "#Nodos del grafo  { s:(1,2),CI:3,CS:5  }\n",
        "  #print(COSTES)\n",
        "  DIMENSION = len(COSTES)  \n",
        "  MEJOR_SOLUCION=tuple( i for i in range(len(COSTES)) )\n",
        "  CotaSup = valor(MEJOR_SOLUCION,COSTES)\n",
        "  #print(\"Cota Superior:\", CotaSup)\n",
        "\n",
        "  NODOS=[]\n",
        "  NODOS.append({'s':(), 'ci':CI((),COSTES)    } )\n",
        "\n",
        "  iteracion = 0\n",
        "\n",
        "  while( len(NODOS) > 0):\n",
        "    iteracion +=1\n",
        "\n",
        "    nodo_prometedor = [ min(NODOS, key=lambda x:x['ci']) ][0]['s']\n",
        "    #print(\"Nodo prometedor:\", nodo_prometedor)\n",
        "\n",
        "    #Ramificacion\n",
        "    #Se generan los hijos\n",
        "    HIJOS =[ {'s':x['s'], 'ci':CI(x['s'], COSTES)   } for x in crear_hijos(nodo_prometedor, DIMENSION) ]\n",
        "\n",
        "    #Revisamos la cota superior y nos quedamos con la mejor solucion si llegamos a una solucion final\n",
        "    NODO_FINAL = [x for x in HIJOS if len(x['s']) == DIMENSION  ]\n",
        "    if len(NODO_FINAL ) >0: \n",
        "      #print(\"\\n********Soluciones:\",  [x for x in HIJOS if len(x['s']) == DIMENSION  ] )\n",
        "      if NODO_FINAL[0]['ci'] < CotaSup:\n",
        "        CotaSup = NODO_FINAL[0]['ci']\n",
        "        MEJOR_SOLUCION = NODO_FINAL\n",
        " \n",
        "    #Poda\n",
        "    HIJOS = [x for x in HIJOS if x['ci'] < CotaSup   ]\n",
        "\n",
        "    #Añadimos los hijos \n",
        "    NODOS.extend(HIJOS) \n",
        "\n",
        "    #Eliminamos el nodo ramificado\n",
        "    NODOS =  [  x for x in NODOS if x['s'] != nodo_prometedor    ]\n",
        "   \n",
        "  print(\"La solucion final es:\" ,MEJOR_SOLUCION , \" en \" , iteracion , \" iteraciones\" , \" para dimension: \" ,DIMENSION  )\n",
        "      \n",
        "\n",
        "\n",
        "ramificacion_y_poda(COSTES)"
      ],
      "execution_count": null,
      "outputs": [
        {
          "output_type": "stream",
          "text": [
            "La solucion final es: [{'s': (1, 2, 0, 3), 'ci': 64}]  en  10  iteraciones  para dimension:  4\n"
          ],
          "name": "stdout"
        }
      ]
    },
    {
      "cell_type": "markdown",
      "metadata": {
        "id": "fphhoLQf2E2K"
      },
      "source": [
        "##Descenso del gradiente"
      ]
    },
    {
      "cell_type": "code",
      "metadata": {
        "id": "t6_xSfDa2FL7"
      },
      "source": [
        "import math                      #Funciones matematicas\n",
        "import matplotlib.pyplot as plt  #Generacion de gráficos (otra opcion seaborn)\n",
        "import numpy as np               #Tratamiento matriz N-dimensionales y otras (fundamental!) \n",
        "#import scipy as sc\n",
        "\n",
        "import random"
      ],
      "execution_count": null,
      "outputs": []
    },
    {
      "cell_type": "code",
      "metadata": {
        "id": "b6-_EfcV2IvF"
      },
      "source": [
        "#Definimos la funcion\n",
        "#Paraboloide\n",
        "f  = lambda X:      X[0]**2+X[1]**2      #Funcion\n",
        "df = lambda X: [2*X[0] , 2*X[1]]         #Gradiente"
      ],
      "execution_count": null,
      "outputs": []
    },
    {
      "cell_type": "code",
      "metadata": {
        "colab": {
          "base_uri": "https://localhost:8080/",
          "height": 282
        },
        "id": "UPMYPJgN2Km9",
        "outputId": "7336ff01-802f-44f9-d689-b63c5585f658"
      },
      "source": [
        "#Prepara los datos para dibujar mapa de niveles de Z\n",
        "resolucion = 100 \n",
        "rango=2.5\n",
        "X=np.linspace(-rango,rango,resolucion) \n",
        "Y=np.linspace(-rango,rango,resolucion)\n",
        "Z=np.zeros((resolucion,resolucion))\n",
        "for ix,x in enumerate(X):\n",
        "  for iy,y in enumerate(Y):\n",
        "    Z[iy,ix] = f([x,y])\n",
        "\n",
        "#Pinta el mapa de niveles de Z\n",
        "plt.contourf(X,Y,Z,resolucion)\n",
        "plt.colorbar() \n",
        "\n",
        "#Generamos un punto aleatorio\n",
        "P=[random.uniform(-2,2  ),random.uniform(-2,2 ) ]\n",
        "plt.plot(P[0],P[1],\"o\",c=\"white\")\n",
        "\n",
        "#Tasa de aprendizaje\n",
        "TA=.1 \n",
        "\n",
        "#Iteraciones\n",
        "for _ in range(500):\n",
        "  grad = df(P)\n",
        "  #print(P,grad)\n",
        "  P[0],P[1] = P[0] - TA*grad[0] , P[1] - TA*grad[1]\n",
        "  plt.plot(P[0],P[1],\"o\",c=\"red\")\n",
        "\n",
        "plt.plot(P[0],P[1],\"o\",c=\"green\")\n",
        "plt.show()\n",
        "print(\"Solucion:\" , P , f(P))"
      ],
      "execution_count": null,
      "outputs": [
        {
          "output_type": "display_data",
          "data": {
            "image/png": "[encoded data removed]",
            "text/plain": [
              "<Figure size 432x288 with 2 Axes>"
            ]
          },
          "metadata": {
            "tags": [],
            "needs_background": "light"
          }
        },
        {
          "output_type": "stream",
          "text": [
            "Solucion: [-3.786862038579562e-50, -7.029522845320086e-50] 6.375451553211196e-99\n"
          ],
          "name": "stdout"
        }
      ]
    },
    {
      "cell_type": "markdown",
      "metadata": {
        "id": "FkqVF4yZ2QKw"
      },
      "source": [
        "##Parte individual"
      ]
    },
    {
      "cell_type": "markdown",
      "metadata": {
        "id": "qQF4VBfu2S_L"
      },
      "source": [
        "###Fuerza bruta\n",
        "Resolución por fuerza bruta:"
      ]
    },
    {
      "cell_type": "code",
      "metadata": {
        "colab": {
          "base_uri": "https://localhost:8080/"
        },
        "id": "pTNR7mOg2M3h",
        "outputId": "0182a7e5-cb4f-448b-9446-3a190f4578ad"
      },
      "source": [
        "import itertools\n",
        "\n",
        "def fuerza_bruta(COSTES):\n",
        "\n",
        "  n=len(COSTES)\n",
        "  menor_coste=9999999\n",
        "  mejor_opcion=[]\n",
        "  lista1=[x for x in range(n)]\n",
        "  #print(lista1)\n",
        "  lista2=list(itertools.permutations(lista1))\n",
        "  #print(lista2)\n",
        "  #print(lista2)\n",
        "\n",
        "  for i in lista2:\n",
        "    #print(i)\n",
        "    coste=valor(i,COSTES)\n",
        "    #print(coste)\n",
        "    if coste<menor_coste:\n",
        "      menor_coste=coste\n",
        "      mejor_opcion=i\n",
        "  print(menor_coste,mejor_opcion)\n",
        "\n",
        "fuerza_bruta(COSTES)"
      ],
      "execution_count": null,
      "outputs": [
        {
          "output_type": "stream",
          "text": [
            "61 (0, 2, 3, 1)\n"
          ],
          "name": "stdout"
        }
      ]
    },
    {
      "cell_type": "markdown",
      "metadata": {
        "id": "-aZ_p0Db61xp"
      },
      "source": [
        "El tiempo de ejecución de itertools.permutations() es de complejidad n (lineal), pero el número de listas que genera es n!, por lo que la función completa tiene complejidad factorial.\n",
        "\n",
        "En el caso de la función de ramificación y poda creo que el orden de complejidad es cuadrática, por lo que nos va a permitir operar con dimensiones mucho mayores que el método de fuerza bruta."
      ]
    },
    {
      "cell_type": "markdown",
      "metadata": {
        "id": "EgI_TRHC2aVX"
      },
      "source": [
        "###Crear matriz de mayor tamaño:"
      ]
    },
    {
      "cell_type": "code",
      "metadata": {
        "colab": {
          "base_uri": "https://localhost:8080/"
        },
        "id": "0NHDkxIO2b6Q",
        "outputId": "838987d6-f673-404e-95d6-f78a28737bf7"
      },
      "source": [
        "import numpy as np\n",
        "\n",
        "n=10\n",
        "\n",
        "COSTES2=np.random.randint(40, size=(n, n))\n",
        "print(COSTES2)"
      ],
      "execution_count": null,
      "outputs": [
        {
          "output_type": "stream",
          "text": [
            "[[ 0 25  9 21 17 35 31  1 31  6]\n",
            " [12 25 37 23 38 37 34 13 13 16]\n",
            " [11  7 29  6 28 12  6 12 15 32]\n",
            " [31 35 30  0 19 19 23 13 19 32]\n",
            " [31  2 13 32 39 26 21 37 11 27]\n",
            " [10 37 26 33  7 30 25 12 16 27]\n",
            " [ 8 28 31 30 35 21  8 37  3 29]\n",
            " [26  5 13  9 26 11 38 19 18 25]\n",
            " [34  0 33 16 20 14 11 13 37 15]\n",
            " [32 37 33  1 38 32 38 12 34 24]]\n"
          ],
          "name": "stdout"
        }
      ]
    },
    {
      "cell_type": "code",
      "metadata": {
        "colab": {
          "base_uri": "https://localhost:8080/"
        },
        "id": "6WfWplXy2d4Y",
        "outputId": "11271854-4feb-4f04-f2be-7c3c986aae62"
      },
      "source": [
        "import time\n",
        "\n",
        "start_time=time.time()\n",
        "\n",
        "fuerza_bruta(COSTES2)\n",
        "\n",
        "print(\"--- %s seconds ---\" % (time.time() - start_time))"
      ],
      "execution_count": null,
      "outputs": [
        {
          "output_type": "stream",
          "text": [
            "68 (0, 9, 6, 3, 2, 4, 8, 5, 1, 7)\n",
            "--- 19.973151922225952 seconds ---\n"
          ],
          "name": "stdout"
        }
      ]
    },
    {
      "cell_type": "code",
      "metadata": {
        "colab": {
          "base_uri": "https://localhost:8080/"
        },
        "id": "bpqa76Ex2fsx",
        "outputId": "9108d20e-1e53-41e4-a160-1173ddfabcda"
      },
      "source": [
        "start_time=time.time()\n",
        "\n",
        "ramificacion_y_poda(COSTES2)\n",
        "\n",
        "print(\"--- %s seconds ---\" % (time.time() - start_time))"
      ],
      "execution_count": null,
      "outputs": [
        {
          "output_type": "stream",
          "text": [
            "La solucion final es: [{'s': (0, 7, 6, 3, 2, 4, 8, 5, 1, 9), 'ci': 77}]  en  2560  iteraciones  para dimension:  10\n",
            "--- 0.8365662097930908 seconds ---\n"
          ],
          "name": "stdout"
        }
      ]
    },
    {
      "cell_type": "markdown",
      "metadata": {
        "id": "RL5BKfcM2msP"
      },
      "source": [
        "A vista de los resultados ambos métodos han alcanzado el resultado óptimo, la gran diferencia es el tiempo. Para una matriz cuadrada de dimensión n=10, por fuerza bruta supera los 20 segundos, mientras que por ramificación y poda el tiempo es inferior a un segundo."
      ]
    },
    {
      "cell_type": "markdown",
      "metadata": {
        "id": "yPaHSV1D3Qgb"
      },
      "source": [
        "Para n=12, por fuerza bruta, la sesión de google colab falla porque se supera el máximo de memoria RAM disponible."
      ]
    },
    {
      "cell_type": "code",
      "metadata": {
        "id": "WDk6aEaY2pxa"
      },
      "source": [
        "n=12\n",
        "\n",
        "COSTES3=np.random.randint(40, size=(n, n))\n",
        "#print(COSTES3)"
      ],
      "execution_count": null,
      "outputs": []
    },
    {
      "cell_type": "code",
      "metadata": {
        "id": "jucvi8qU21_S"
      },
      "source": [
        "#start_time=time.time()\n",
        "\n",
        "#fuerza_bruta(COSTES3)\n",
        "\n",
        "#print(\"--- %s seconds ---\" % (time.time() - start_time))"
      ],
      "execution_count": null,
      "outputs": []
    },
    {
      "cell_type": "code",
      "metadata": {
        "id": "2r7G0MxW3cm3"
      },
      "source": [
        "n=11\n",
        "\n",
        "COSTES4=np.random.randint(40, size=(n, n))\n",
        "#print(COSTES4)"
      ],
      "execution_count": null,
      "outputs": []
    },
    {
      "cell_type": "code",
      "metadata": {
        "colab": {
          "base_uri": "https://localhost:8080/"
        },
        "id": "r63LCOfp3l0i",
        "outputId": "687994b6-8cce-4551-8290-a0a19416d8f1"
      },
      "source": [
        "start_time=time.time()\n",
        "\n",
        "fuerza_bruta(COSTES4)\n",
        "\n",
        "print(\"--- %s seconds ---\" % (time.time() - start_time))"
      ],
      "execution_count": null,
      "outputs": [
        {
          "output_type": "stream",
          "text": [
            "47 (5, 0, 6, 4, 1, 7, 3, 8, 10, 2, 9)\n",
            "--- 242.80730152130127 seconds ---\n"
          ],
          "name": "stdout"
        }
      ]
    },
    {
      "cell_type": "markdown",
      "metadata": {
        "id": "y3Y2X44M5yFq"
      },
      "source": [
        "La dimensión máxima que permite google colab por fuerza bruta es n=11."
      ]
    },
    {
      "cell_type": "code",
      "metadata": {
        "id": "T1QAX0z53o4Y"
      },
      "source": [
        "n=100\n",
        "\n",
        "COSTES5=np.random.randint(40, size=(n, n))\n",
        "#print(COSTES5)"
      ],
      "execution_count": null,
      "outputs": []
    },
    {
      "cell_type": "code",
      "metadata": {
        "id": "9PwHWNy2ApCO"
      },
      "source": [
        "start_time=time.time()\n",
        "\n",
        "ramificacion_y_poda(COSTES5)\n",
        "\n",
        "print(\"--- %s seconds ---\" % (time.time() - start_time))"
      ],
      "execution_count": null,
      "outputs": []
    },
    {
      "cell_type": "markdown",
      "metadata": {
        "id": "UkGNIq4wAmi2"
      },
      "source": [
        "Para dimensiones de n=100, la plataformas nos permite ejecutar el programa, pero los tiempos de espera son largos. En mi opinión para cualquier dimensionalidad nos va a servir este método pero el tiempo de espera va a ser acorde a dicha dimensionalidad."
      ]
    }
  ]
}