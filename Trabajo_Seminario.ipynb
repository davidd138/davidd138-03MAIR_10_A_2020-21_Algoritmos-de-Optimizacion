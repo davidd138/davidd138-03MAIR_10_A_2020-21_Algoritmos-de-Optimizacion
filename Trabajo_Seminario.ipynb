{
  "nbformat": 4,
  "nbformat_minor": 0,
  "metadata": {
    "colab": {
      "name": "Trabajo_Seminario.ipynb",
      "provenance": [],
      "collapsed_sections": [],
      "authorship_tag": "ABX9TyMBFpyoV1TCPGf9vkH7empU",
      "include_colab_link": true
    },
    "kernelspec": {
      "name": "python3",
      "display_name": "Python 3"
    }
  },
  "cells": [
    {
      "cell_type": "markdown",
      "metadata": {
        "id": "view-in-github",
        "colab_type": "text"
      },
      "source": [
        "<a href=\"https://colab.research.google.com/github/davidd138/davidd138-03MAIR_10_A_2020-21_Algoritmos-de-Optimizacion/blob/main/Trabajo_Seminario.ipynb\" target=\"_parent\"><img src=\"https://colab.research.google.com/assets/colab-badge.svg\" alt=\"Open In Colab\"/></a>"
      ]
    },
    {
      "cell_type": "markdown",
      "metadata": {
        "id": "30oBuLi6L4Gr"
      },
      "source": [
        "#Trabajo seminario - Algoritmos de Optimización\n",
        "David Pérez Martínez\n",
        "\n",
        "https://colab.research.google.com/drive/1x9VDYmTcbC70-EzXEnqRVCBKw_0t2Yih?usp=sharing\n",
        "\n",
        "https://github.com/davidd138/davidd138-03MAIR_10_A_2020-21_Algoritmos-de-Optimizacion\n"
      ]
    },
    {
      "cell_type": "markdown",
      "metadata": {
        "id": "bB8Rubt4MAmm"
      },
      "source": [
        "##Problema 2 - Calendario de La Liga\n",
        "\n"
      ]
    },
    {
      "cell_type": "markdown",
      "metadata": {
        "id": "1WsQzUBDH_f0"
      },
      "source": [
        "**¿Cuantas posibilidades hay sin tener en cuenta las restricciones?**\n",
        "\n",
        "Cada jornada tiene 10 partidos, si consideramos que hay 10 fechas y no permitimos solapamientos de partidos: 10! posibilidades.\n",
        "\n",
        "**¿Cuantas posibilidades hay teniendo en cuenta todas las restricciones?**\n",
        "\n",
        "En este problema no se aplican restricciones a los horarios."
      ]
    },
    {
      "cell_type": "markdown",
      "metadata": {
        "id": "1JLSodSGK83k"
      },
      "source": [
        "**¿Cual es la estructura de datos que mejor se adapta al problema? Argumentalo.(Es posible que hayas elegido una al principio y veas la necesidad de cambiar, arguentalo)**"
      ]
    },
    {
      "cell_type": "markdown",
      "metadata": {
        "id": "EexkBrnZMHyx"
      },
      "source": [
        "En primer lugar vamos a recoger los datos en listas.\n",
        "\n",
        "Cada posición en la lista esta referida a una hora."
      ]
    },
    {
      "cell_type": "code",
      "metadata": {
        "colab": {
          "base_uri": "https://localhost:8080/"
        },
        "id": "vp4vyyOiMAJy",
        "outputId": "8b852436-01ad-4638-ed14-d19dca29578c"
      },
      "source": [
        "#Posición -> Fecha y hora\n",
        "#0 -> Viernes:20\n",
        "#1 -> Sabado:12\n",
        "#2 -> Sabado:16\n",
        "#3 -> Sabado:18\n",
        "#4 -> Sabado:20\n",
        "#5 -> Domingo:12\n",
        "#6 -> Domingo:16\n",
        "#7 -> Domingo:18\n",
        "#8 -> Domingo:20\n",
        "#9 -> Lunes:20\n",
        "\n",
        "#horarios_cfc=[x for x in range(10)]\n",
        "horarios_cfc=[0.4,0.55,0.7,0.8,1,0.45,0.75,0.5,1,0.4]\n",
        "print(horarios_cfc)"
      ],
      "execution_count": null,
      "outputs": [
        {
          "output_type": "stream",
          "text": [
            "[0.4, 0.55, 0.7, 0.8, 1, 0.45, 0.75, 0.5, 1, 0.4]\n"
          ],
          "name": "stdout"
        }
      ]
    },
    {
      "cell_type": "markdown",
      "metadata": {
        "id": "qiQKA1xjMopF"
      },
      "source": [
        "A continuación la siguiente matriz escrita como lista de listas contiene la audiencia en millones dependiendo de la clase de equipos enfrentados. "
      ]
    },
    {
      "cell_type": "code",
      "metadata": {
        "colab": {
          "base_uri": "https://localhost:8080/"
        },
        "id": "jWhk7IxcMTCG",
        "outputId": "32a13779-4fe5-41ba-cc20-7389683f7e00"
      },
      "source": [
        "tabla_categoria=[[2,1.3,1],[1.3,0.9,0.75],[1,0.75,0.47]]\n",
        "print(tabla_categoria)"
      ],
      "execution_count": null,
      "outputs": [
        {
          "output_type": "stream",
          "text": [
            "[[2, 1.3, 1], [1.3, 0.9, 0.75], [1, 0.75, 0.47]]\n"
          ],
          "name": "stdout"
        }
      ]
    },
    {
      "cell_type": "markdown",
      "metadata": {
        "id": "pdiTcrqJNt_A"
      },
      "source": [
        "En la siguiente lista se incluyen los coeficientes por coincidenia de partidos:"
      ]
    },
    {
      "cell_type": "code",
      "metadata": {
        "colab": {
          "base_uri": "https://localhost:8080/"
        },
        "id": "EdqOumxnNs1k",
        "outputId": "2531486e-e17c-4c9d-fb78-4076bda2abd7"
      },
      "source": [
        "#La posición indica el número de coincidencias\n",
        "coincidencias_cfc=[0,0.25,0.45,0.6,0.7,0.75,0.78,0.8,0.8]\n",
        "print(coincidencias_cfc)"
      ],
      "execution_count": null,
      "outputs": [
        {
          "output_type": "stream",
          "text": [
            "[0, 0.25, 0.45, 0.6, 0.7, 0.75, 0.78, 0.8, 0.8]\n"
          ],
          "name": "stdout"
        }
      ]
    },
    {
      "cell_type": "markdown",
      "metadata": {
        "id": "V-mXPNiHOUUl"
      },
      "source": [
        "En una lista a cada equipo se le va a asignar una posición y según su afición se le asigna un 0, 1 o 2."
      ]
    },
    {
      "cell_type": "code",
      "metadata": {
        "colab": {
          "base_uri": "https://localhost:8080/"
        },
        "id": "DhTDxgfZOe2R",
        "outputId": "059f24f2-1745-4ca4-8668-ce13256e318e"
      },
      "source": [
        "#Cada posición de la lista es un equipo\n",
        "#0 -> A\n",
        "#1 -> B\n",
        "#2 -> C\n",
        "\n",
        "equipos_cfc=[0,0,0,1,1,1,1,1,1,1,1,1,1,1,2,2,2,2,2,2]\n",
        "print(equipos_cfc)"
      ],
      "execution_count": null,
      "outputs": [
        {
          "output_type": "stream",
          "text": [
            "[0, 0, 0, 1, 1, 1, 1, 1, 1, 1, 1, 1, 1, 1, 2, 2, 2, 2, 2, 2]\n"
          ],
          "name": "stdout"
        }
      ]
    },
    {
      "cell_type": "markdown",
      "metadata": {
        "id": "6iU-Gyg6Owbn"
      },
      "source": [
        "El horario se va a presentar en forma lista de listas. Por ejemplo:"
      ]
    },
    {
      "cell_type": "code",
      "metadata": {
        "colab": {
          "base_uri": "https://localhost:8080/"
        },
        "id": "WfcRCyeiOl20",
        "outputId": "47e133ca-96b8-4ee0-c5ec-49e1a45420c7"
      },
      "source": [
        "[[1, 5], [3, 12], [8, 13], [10, 6], [7, 14], [11, 2], [9, 19], [18, 4], [15, 16], [0, 17]]"
      ],
      "execution_count": null,
      "outputs": [
        {
          "output_type": "execute_result",
          "data": {
            "text/plain": [
              "[[1, 5],\n",
              " [3, 12],\n",
              " [8, 13],\n",
              " [10, 6],\n",
              " [7, 14],\n",
              " [11, 2],\n",
              " [9, 19],\n",
              " [18, 4],\n",
              " [15, 16],\n",
              " [0, 17]]"
            ]
          },
          "metadata": {
            "tags": []
          },
          "execution_count": 8
        }
      ]
    },
    {
      "cell_type": "markdown",
      "metadata": {
        "id": "bbQB-_xYO__O"
      },
      "source": [
        "Esta lista anterior quiere decir que el equipo 1 se enfrenta al equipo 5, el 3 al 12... y la posición se identifica con la hora a la que juega.\n",
        "En este caso el equipo 1 y 5 se enfrentan el viernes, el 3 y el 12 el sábado a las 12, el 8 y el 13 el sábado a las 16..."
      ]
    },
    {
      "cell_type": "markdown",
      "metadata": {
        "id": "GwFDdWkEPmfx"
      },
      "source": [
        "En el caso de solapamiento de partidos se referencia añadiendo un tercer elemento a la lista del partido que se va a solapar:"
      ]
    },
    {
      "cell_type": "code",
      "metadata": {
        "colab": {
          "base_uri": "https://localhost:8080/"
        },
        "id": "afU-JrhmPm0l",
        "outputId": "13678a20-5e09-4e27-ec27-ef8797952db1"
      },
      "source": [
        "[[1, 5], [3, 12], [8, 13, 4], [10, 6], [7, 14], [11, 2], [9, 19], [18, 4], [15, 16], [0, 17]]"
      ],
      "execution_count": null,
      "outputs": [
        {
          "output_type": "execute_result",
          "data": {
            "text/plain": [
              "[[1, 5],\n",
              " [3, 12],\n",
              " [8, 13, 4],\n",
              " [10, 6],\n",
              " [7, 14],\n",
              " [11, 2],\n",
              " [9, 19],\n",
              " [18, 4],\n",
              " [15, 16],\n",
              " [0, 17]]"
            ]
          },
          "metadata": {
            "tags": []
          },
          "execution_count": 9
        }
      ]
    },
    {
      "cell_type": "markdown",
      "metadata": {
        "id": "Ez7YIUrzPsqk"
      },
      "source": [
        "En la lista anterior vemos que a la tercera lista se le ha añadido un 4. Esto quiere decir que este partido en vez de jugarse a la hora correspondiente a su posción, se juega a la hora correspondiente a la posición 4, es decir, simultáneamente al enfrentamiento del 7 y 14, el sábado a las 20h."
      ]
    },
    {
      "cell_type": "markdown",
      "metadata": {
        "id": "tQ0NDxyQQW9f"
      },
      "source": [
        "A continuación una función que calcule la audiencia de un partido:"
      ]
    },
    {
      "cell_type": "code",
      "metadata": {
        "id": "_1nBpS_aQjrj"
      },
      "source": [
        "def audiencia(equipo1,equipo2,horario,coincidencia=0):\n",
        "  base=tabla_categoria[equipos_cfc[equipo1]][equipos_cfc[equipo2]]\n",
        "  total=base*horarios_cfc[horario]*(1-coincidencias_cfc[coincidencia])\n",
        "  return total"
      ],
      "execution_count": null,
      "outputs": []
    },
    {
      "cell_type": "markdown",
      "metadata": {
        "id": "suqfCDHaQu56"
      },
      "source": [
        "La siguiente función calcula la audiencia total de una lista de partidos que pasemos (sin solapamiento de partidos):"
      ]
    },
    {
      "cell_type": "code",
      "metadata": {
        "id": "zheGgqP5Ql9G"
      },
      "source": [
        "def audiencia2(lista):  \n",
        "  audiencia_total=0\n",
        "  for j,i in enumerate(lista):\n",
        "    audiencia_total+=audiencia(i[0],i[1],j)\n",
        "  return audiencia_total"
      ],
      "execution_count": null,
      "outputs": []
    },
    {
      "cell_type": "markdown",
      "metadata": {
        "id": "VatFqhaELoxa"
      },
      "source": [
        "**¿Cual es la función objetivo?**"
      ]
    },
    {
      "cell_type": "markdown",
      "metadata": {
        "id": "EkYJWWqrRMx9"
      },
      "source": [
        "Otra función que calcula la audiencia de total de una lista de partidos con o sin solapamiento de partidos:\n",
        "\n",
        "(Esta es la función objetivo)\n"
      ]
    },
    {
      "cell_type": "code",
      "metadata": {
        "id": "4i4KBfDbRNWS"
      },
      "source": [
        "def audiencia3(lista):\n",
        "  if [len(x)==2 for x in lista]==[True for x in range(len(lista))]:\n",
        "    return audiencia2(lista)\n",
        "  else:\n",
        "    lista_coincidencias=[[] for x in range(len(lista))]\n",
        "    audiencia_total=0\n",
        "    for j,i in enumerate(lista):\n",
        "      if len(i)==2: lista_coincidencias[j].append(i)\n",
        "      else: lista_coincidencias[i[2]].append(i[:2])\n",
        "    for j,i in enumerate(lista_coincidencias):\n",
        "      for k in i:\n",
        "        audiencia_total+=audiencia(k[0],k[1],j,len(i)-1)\n",
        "    return audiencia_total"
      ],
      "execution_count": null,
      "outputs": []
    },
    {
      "cell_type": "markdown",
      "metadata": {
        "id": "_lPyCKqyLefx"
      },
      "source": [
        "**¿Es un problema de maximización o minimización?**\n",
        "\n",
        "Es un problema de maximización"
      ]
    },
    {
      "cell_type": "markdown",
      "metadata": {
        "id": "l2kuO5NnRu2A"
      },
      "source": [
        "Antes de generar los enfrentamientos por jornadas, vamos a crear una lista que simule una jornada cualquiera y vamos a trabajar con ella para crear las funciones que nos permitan encotrar la solución más óptima."
      ]
    },
    {
      "cell_type": "code",
      "metadata": {
        "colab": {
          "base_uri": "https://localhost:8080/"
        },
        "id": "EThWsJL6RTMp",
        "outputId": "e3957d58-ae06-4347-fd48-c16eba528a1c"
      },
      "source": [
        "import random\n",
        "\n",
        "lista_equipos=[x for x in range(20)]\n",
        "random.shuffle(lista_equipos)\n",
        "\n",
        "l1=[[lista_equipos[x],lista_equipos[x+1]] for x in range(0,len(lista_equipos),2)]\n",
        "print(l1)"
      ],
      "execution_count": null,
      "outputs": [
        {
          "output_type": "stream",
          "text": [
            "[[8, 12], [17, 7], [6, 1], [9, 2], [18, 13], [19, 16], [5, 15], [0, 10], [11, 3], [14, 4]]\n"
          ],
          "name": "stdout"
        }
      ]
    },
    {
      "cell_type": "markdown",
      "metadata": {
        "id": "SySLYB_YWabR"
      },
      "source": [
        "\"l1\" va a ser la lista que simula la jornada que vamos a tratar de optimizar.\n",
        "\n",
        "El primer método que vamos a probar es una fucnión que genera combinaciones aleatorias y calcula la mejor:"
      ]
    },
    {
      "cell_type": "code",
      "metadata": {
        "id": "2aFgePkIV2Qk"
      },
      "source": [
        "def mix_filtro(lista,n):\n",
        "  mejor_lista=[]\n",
        "  mejor_audiencia=0\n",
        "  for i in range(n):\n",
        "    random.shuffle(lista)\n",
        "    if audiencia2(lista)>mejor_audiencia:\n",
        "      mejor_lista=lista[:]\n",
        "      mejor_audiencia=audiencia2(lista)\n",
        "  return mejor_lista,mejor_audiencia"
      ],
      "execution_count": null,
      "outputs": []
    },
    {
      "cell_type": "code",
      "metadata": {
        "colab": {
          "base_uri": "https://localhost:8080/"
        },
        "id": "DTsgnUbAW5kO",
        "outputId": "b0f076d8-bf4a-4dc4-c904-313748154202"
      },
      "source": [
        "mix_filtro(l1,100000)"
      ],
      "execution_count": null,
      "outputs": [
        {
          "output_type": "execute_result",
          "data": {
            "text/plain": [
              "([[7, 19],\n",
              "  [4, 13],\n",
              "  [12, 10],\n",
              "  [2, 16],\n",
              "  [8, 1],\n",
              "  [14, 3],\n",
              "  [9, 6],\n",
              "  [11, 5],\n",
              "  [17, 0],\n",
              "  [18, 15]],\n",
              " 6.1755)"
            ]
          },
          "metadata": {
            "tags": []
          },
          "execution_count": 52
        }
      ]
    },
    {
      "cell_type": "markdown",
      "metadata": {
        "id": "wMMfTgH9XI7a"
      },
      "source": [
        "Debido a la cantidad de combinciones aleatorias que se crea es muy probable que esta sea la más probable si no hubiera la posibilidad de superposición.\n",
        "\n",
        "Para barajar la posibilidad de partidos a la misma hora creamos una función que a partir de la lista de una solución, mueva todos los partidos a otras horas ya ocupadas y eliga la mejor opción."
      ]
    },
    {
      "cell_type": "code",
      "metadata": {
        "id": "V__f4C05XrJJ"
      },
      "source": [
        "def sol_coincidencias(lista):\n",
        "  mejor_lista=lista\n",
        "  mejor_audiencia=audiencia3(lista)\n",
        "  for i in range(len(lista)):\n",
        "    for j in range(len(lista)):\n",
        "      if i!=j:\n",
        "        new_list=[x[:] for x in lista]\n",
        "        if len(new_list[i])==2: new_list[i].append(j)\n",
        "        else: new_list[i][2]=j\n",
        "        if audiencia3(new_list)>mejor_audiencia:\n",
        "          mejor_lista=new_list[:]\n",
        "          mejor_audiencia=audiencia3(new_list)\n",
        "  return mejor_lista,mejor_audiencia"
      ],
      "execution_count": null,
      "outputs": []
    },
    {
      "cell_type": "markdown",
      "metadata": {
        "id": "aNflmgDDZJsJ"
      },
      "source": [
        "Necesitamos de otra función que aplique \"sol_coincidencias\" hasta que se llegue a un mínimo:"
      ]
    },
    {
      "cell_type": "code",
      "metadata": {
        "id": "QrzGN-UGZUZI"
      },
      "source": [
        "def check_coincidencias(lista):\n",
        "  mejor_audiencia=audiencia3(lista)\n",
        "  mejor_lista=lista[:]\n",
        "  while(True):\n",
        "    lista,audiencia=sol_coincidencias(lista)\n",
        "    if audiencia<=mejor_audiencia: break\n",
        "    else: \n",
        "      mejor_audiencia=audiencia\n",
        "      mejor_lista=lista[:]\n",
        "  return mejor_lista, mejor_audiencia"
      ],
      "execution_count": null,
      "outputs": []
    },
    {
      "cell_type": "markdown",
      "metadata": {
        "id": "wjfz5d8FZ3Ts"
      },
      "source": [
        "Ahora incorporamos esta última función a \"mix_filtro\", para que a cada solución aleatoria que genere se encuentre su mínimo solapando partidos."
      ]
    },
    {
      "cell_type": "code",
      "metadata": {
        "id": "OUiHfNdVaFOv"
      },
      "source": [
        "def mix_filtro2(lista,n):\n",
        "  mejor_lista=lista[:]\n",
        "  mejor_audiencia=audiencia3(lista)\n",
        "  for i in range(n):\n",
        "    lista1=lista[:]\n",
        "    random.shuffle(lista1)\n",
        "    lista1,audiencia=check_coincidencias(lista1)\n",
        "    if audiencia>mejor_audiencia:\n",
        "      mejor_lista=lista1[:]\n",
        "      mejor_audiencia=audiencia\n",
        "  return mejor_lista,mejor_audiencia"
      ],
      "execution_count": null,
      "outputs": []
    },
    {
      "cell_type": "code",
      "metadata": {
        "colab": {
          "base_uri": "https://localhost:8080/"
        },
        "id": "AKTgO9EZcfyX",
        "outputId": "b7b198fa-e61b-48ef-e2f3-40053a43a32b"
      },
      "source": [
        "mix_filtro2(l1,1000)"
      ],
      "execution_count": null,
      "outputs": [
        {
          "output_type": "execute_result",
          "data": {
            "text/plain": [
              "([[6, 1, 4],\n",
              "  [17, 7],\n",
              "  [19, 16, 0],\n",
              "  [0, 10],\n",
              "  [11, 3, 2],\n",
              "  [5, 15],\n",
              "  [8, 12],\n",
              "  [18, 13],\n",
              "  [9, 2],\n",
              "  [14, 4]],\n",
              " 6.558)"
            ]
          },
          "metadata": {
            "tags": []
          },
          "execution_count": 44
        }
      ]
    },
    {
      "cell_type": "markdown",
      "metadata": {
        "id": "pT9kttuUcwyf"
      },
      "source": [
        "En algunos casos esta última función no hace coincidir partidos, simplemente los permuta. Esto depende de los enfrentamientos de cada jornada.\n",
        "\n",
        "Ambas funciones coinciden en que la mayor audiencia es 6,558 millones.\n",
        "\n",
        "La última celda de código genera jornadas aleatorias y ejecuta los dos códigos, el primero sin solpamiento y el segundo con. Se puede ejecutar para ver como se comportan. Normalmente ambos obtienen el mismo resultado, pero hay veces, como la jornada que dejo ejecutada, en las que con solapamiento de algun partido se encuentra una mejor solución:"
      ]
    },
    {
      "cell_type": "code",
      "metadata": {
        "colab": {
          "base_uri": "https://localhost:8080/"
        },
        "id": "9tqZ0NQdgyCs",
        "outputId": "70a0715d-9c06-43f4-de07-0973f70f7443"
      },
      "source": [
        "import random\n",
        "\n",
        "lista_equipos=[x for x in range(20)]\n",
        "random.shuffle(lista_equipos)\n",
        "\n",
        "l2=[[lista_equipos[x],lista_equipos[x+1]] for x in range(0,len(lista_equipos),2)]\n",
        "print(l1)\n",
        "\n",
        "print(mix_filtro(l2,100000))\n",
        "print(mix_filtro2(l2,1000))"
      ],
      "execution_count": null,
      "outputs": [
        {
          "output_type": "stream",
          "text": [
            "[[14, 11], [16, 2], [17, 12], [15, 3], [1, 7], [9, 13], [5, 0], [4, 8], [19, 6], [18, 10]]\n",
            "([[19, 14], [3, 11], [4, 5], [16, 2], [13, 1], [17, 9], [12, 6], [7, 10], [0, 15], [18, 8]], 6.1755)\n",
            "([[18, 8, 5], [4, 5], [7, 10], [0, 15], [16, 2], [12, 6, 4], [3, 11], [17, 9], [13, 1], [19, 14, 0]], 6.2255)\n"
          ],
          "name": "stdout"
        }
      ]
    },
    {
      "cell_type": "markdown",
      "metadata": {
        "id": "XVkFN7cPixNo"
      },
      "source": [
        "Podemos ver que en la opción con solapamiento se juegan dos partidos el sabado a las 20h, el partido de 16 contra 2, y 12 contra 6, y el lunes no se juega partido. La audiencia total es de 6,2255 millones. Sino coincidieran partidos sería 6,1755."
      ]
    },
    {
      "cell_type": "markdown",
      "metadata": {
        "id": "63VD6f4nRvDM"
      },
      "source": [
        "**Calcula la complejidad del algoritmo**\n",
        "\n",
        "El orden de complejidad de la función objetivo es: cte + cte*n -> O(n) lineal\n",
        "\n",
        "El orden de complejidad de la función \"sol_coincidencias\" es : cte*n^2 -> O(n^2) cuadrática\n",
        "\n",
        "El orden de complejidad de la función \"check_coincidencias\" es : cte*n^2 -> O(n^2) cuadrática\n",
        "\n",
        "El orden de complejidad de la función \"mix_filtro2\", es decir, la complejidad total del problema es: cte*n^3 -> O(n^3) cúbica\n"
      ]
    },
    {
      "cell_type": "markdown",
      "metadata": {
        "id": "jm0dEC7rTirA"
      },
      "source": [
        "**Diseña un algoritmo para resolver el problema por fuerza bruta**\n",
        "\n",
        "El siguiente algoritmo resuelve el problema por fuerza bruta para horarios sin solapamiento. (*No ejecutar*)"
      ]
    },
    {
      "cell_type": "code",
      "metadata": {
        "id": "3leqB3UqTm7S"
      },
      "source": [
        "from itertools import permutations  \n",
        "\n",
        "equipos=[x for x in range(20)]\n",
        "\n",
        "permutaciones=permutations(equipos)\n",
        "\n",
        "mejor_audiencia=0\n",
        "mejor_lista=[]\n",
        "for i in permutaciones:\n",
        "  valor=audiencia2(i)\n",
        "  if valor>mejor_audiencia:\n",
        "    mejor_lista=i\n",
        "    mejor_audiencia=valor\n",
        "\n",
        "print(mejor_audiencia)\n",
        "print(mejor_lista)"
      ],
      "execution_count": null,
      "outputs": []
    },
    {
      "cell_type": "markdown",
      "metadata": {
        "id": "lejjKk5aUDsl"
      },
      "source": [
        "La coste computacional de usar permutation() es de orden factorial O(n!). \n",
        "\n",
        "Se puede observar en el siguiente gráfico:\n",
        "\n",
        "[grafico itertools.permutation()](https://i.stack.imgur.com/mpOSq.png)\n",
        "\n",
        "Por tanto el coste total por fuerza bruta es de O(cte*n!)≈O(n!) orden facotrial."
      ]
    }
  ]
}